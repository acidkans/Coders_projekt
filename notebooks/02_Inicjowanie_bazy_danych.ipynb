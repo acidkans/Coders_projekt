{
 "cells": [
  {
   "cell_type": "markdown",
   "metadata": {},
   "source": [
    " # Opis notatnika\n",
    " W tym notatniku skupimy się na stworzeniu dedykowanej bazy danych wraz ze strukturą tabel. Jednak w tym momencie nie będziemy jej uzupełniać danymi - tym zajmiemy się w kolejnej części.\n",
    " \n",
    " Ponownie wcielasz się w rolę Data Engineera, którego zadaniem jest dostarczenie klientowi bazy danych, która będzie używana do celów analityczno-raportowych. Bazy danych są podstawowym źródłem pracy dla Analityków Danych.\n",
    " \n",
    " Plik wraz ze strukturą bazy znajdziesz w folderze `sql/database_schema.sql`. \n",
    "\n",
    " > W tym zadaniu konieczne jest posiadanie zainstalowanego `Postgres` na swoim komputrze. Jeżeli z jakichś powodów został on usunięty po kursie `Python - Analiza Danych`, należy ponownie dokonać instalacji.\n",
    "\n",
    " > Posiadając działającą instancję serwera, można stworzyć po prostu nową bazę np. `airlines`. Stworzenie bazy danych powinno odbyć się w notatniku poprzez stworzenie obiektu cursor i wywołaniu zapytań znajdujących się w pliku .sql.\n",
    "\n",
    " W trakcie rozwiązywania tego notatnika przydadzą się następujące materiały:\n",
    " - `Python - analiza danych -> Przygotowanie do kursu -> Podstawy SQL - Praca samodzielna -> Instalacja bazy danych`\n",
    " - `Python - analiza danych -> Moduł 1 -> Dzień 3 - PostgreSQL -> SQL i Python`\n",
    " - `Python - analiza danych -> Prework -> Podstawy SQL - Praca samodzielna -> Instalacja bazy danych -> Przygotowanie bazy danych`\n",
    " \n",
    "Inicjację bazy danych wykonaj w notatniku, nie bezpośrednio na Postgresie."
   ]
  },
  {
   "cell_type": "markdown",
   "metadata": {},
   "source": [
    " Tutaj zaimportuj potrzebne biblioteki"
   ]
  },
  {
   "cell_type": "code",
   "execution_count": 1,
   "metadata": {},
   "outputs": [],
   "source": [
    "import psycopg2\n",
    "from psycopg2 import connect\n",
    "import os"
   ]
  },
  {
   "cell_type": "markdown",
   "metadata": {},
   "source": [
    " ## Połączenie z bazą danych\n",
    " Tutaj uzupełnij konfigurację połączenia"
   ]
  },
  {
   "cell_type": "code",
   "execution_count": 2,
   "metadata": {},
   "outputs": [],
   "source": [
    "username = 'postgres'\n",
    "password = '123'\n",
    "host = 'localhost'\n",
    "database = 'airlines'\n",
    "port = None"
   ]
  },
  {
   "cell_type": "markdown",
   "metadata": {},
   "source": [
    "Tutaj zdefiniuj zmienną `con` oraz `cursor`"
   ]
  },
  {
   "cell_type": "code",
   "execution_count": 3,
   "metadata": {},
   "outputs": [],
   "source": [
    "con = connect(user = username, password = password, database = database, host = host)\n",
    "cursor = con.cursor()"
   ]
  },
  {
   "cell_type": "markdown",
   "metadata": {},
   "source": [
    " ## Wczytanie pliku `database_schema.sql`\n",
    " Z katalogu `sql` wczytaj plik `database_schema.sql`"
   ]
  },
  {
   "cell_type": "code",
   "execution_count": 4,
   "metadata": {},
   "outputs": [
    {
     "data": {
      "text/plain": [
       "'DROP TABLE IF EXISTS public.aircraft CASCADE;\\nCREATE TABLE IF NOT EXISTS public.aircraft\\n(\\n    id serial,\\n    manufacture_year bigint,\\n    tail_num text,\\n    number_of_seats double precision\\n)\\n;\\n\\nDROP TABLE IF EXISTS public.airport_weather CASCADE;\\nCREATE TABLE IF NOT EXISTS public.airport_weather\\n(\\n    id serial,\\n    station text,\\n    name text,\\n    date text,\\n    awnd double precision,\\n    pgtm double precision,\\n    prcp double precision,\\n    snow double precision,\\n    snwd double precision,\\n    tavg double precision,\\n    tmax double precision,\\n    tmin double precision,\\n    wdf2 double precision,\\n    wdf5 double precision,\\n    wsf2 double precision,\\n    wsf5 double precision,\\n    wt01 double precision,\\n    wt02 double precision,\\n    wt03 double precision,\\n    wt04 double precision,\\n    wt05 double precision,\\n    wt06 double precision,\\n    wt07 double precision,\\n    wt08 double precision,\\n    wt09 double precision,\\n    wesd double precision,\\n    wt10 double precision,\\n    psun double precision,\\n    tsun double precision,\\n    sn32 double precision,\\n    sx32 double precision,\\n    tobs double precision,\\n    wt11 double precision,\\n    wt18 double precision\\n)\\n;\\n\\nDROP TABLE IF EXISTS public.flight CASCADE;\\nCREATE TABLE IF NOT EXISTS public.flight\\n(\\n    id serial,\\n    month bigint,\\n    day_of_month bigint,\\n    day_of_week bigint,\\n    op_unique_carrier text,\\n    tail_num text,\\n    op_carrier_fl_num bigint,\\n    origin_airport_id bigint,\\n    dest_airport_id bigint,\\n    crs_dep_time bigint,\\n    dep_time double precision,\\n    dep_delay_new double precision,\\n    dep_time_blk text,\\n    crs_arr_time bigint,\\n    arr_time double precision,\\n    arr_delay_new double precision,\\n    arr_time_blk text,\\n    cancelled double precision,\\n    crs_elapsed_time double precision,\\n    actual_elapsed_time double precision,\\n    distance double precision,\\n    distance_group bigint,\\n    carrier_delay double precision,\\n    weather_delay double precision,\\n    nas_delay double precision,\\n    security_delay double precision,\\n    late_aircraft_delay double precision,\\n    year bigint\\n)\\n;\\n\\nDROP TABLE IF EXISTS public.airport_list CASCADE;\\nCREATE TABLE IF NOT EXISTS public.airport_list\\n(\\n    id serial,\\n    origin_airport_id bigint,\\n    display_airport_name text ,\\n    origin_city_name text ,\\n    name text \\n)'"
      ]
     },
     "execution_count": 4,
     "metadata": {},
     "output_type": "execute_result"
    }
   ],
   "source": [
    "os.chdir('../sql')\n",
    "sql_file = open('database_schema.sql').read()\n",
    "sql_file"
   ]
  },
  {
   "cell_type": "markdown",
   "metadata": {},
   "source": [
    " W tym miejscu odpowiednio rozdziel zawartość pliku `database_schema.sql` na mniejsze kwerendy używając `;`"
   ]
  },
  {
   "cell_type": "code",
   "execution_count": 5,
   "metadata": {},
   "outputs": [
    {
     "data": {
      "text/plain": [
       "['DROP TABLE IF EXISTS public.aircraft CASCADE',\n",
       " '\\nCREATE TABLE IF NOT EXISTS public.aircraft\\n(\\n    id serial,\\n    manufacture_year bigint,\\n    tail_num text,\\n    number_of_seats double precision\\n)\\n',\n",
       " '\\n\\nDROP TABLE IF EXISTS public.airport_weather CASCADE',\n",
       " '\\nCREATE TABLE IF NOT EXISTS public.airport_weather\\n(\\n    id serial,\\n    station text,\\n    name text,\\n    date text,\\n    awnd double precision,\\n    pgtm double precision,\\n    prcp double precision,\\n    snow double precision,\\n    snwd double precision,\\n    tavg double precision,\\n    tmax double precision,\\n    tmin double precision,\\n    wdf2 double precision,\\n    wdf5 double precision,\\n    wsf2 double precision,\\n    wsf5 double precision,\\n    wt01 double precision,\\n    wt02 double precision,\\n    wt03 double precision,\\n    wt04 double precision,\\n    wt05 double precision,\\n    wt06 double precision,\\n    wt07 double precision,\\n    wt08 double precision,\\n    wt09 double precision,\\n    wesd double precision,\\n    wt10 double precision,\\n    psun double precision,\\n    tsun double precision,\\n    sn32 double precision,\\n    sx32 double precision,\\n    tobs double precision,\\n    wt11 double precision,\\n    wt18 double precision\\n)\\n',\n",
       " '\\n\\nDROP TABLE IF EXISTS public.flight CASCADE',\n",
       " '\\nCREATE TABLE IF NOT EXISTS public.flight\\n(\\n    id serial,\\n    month bigint,\\n    day_of_month bigint,\\n    day_of_week bigint,\\n    op_unique_carrier text,\\n    tail_num text,\\n    op_carrier_fl_num bigint,\\n    origin_airport_id bigint,\\n    dest_airport_id bigint,\\n    crs_dep_time bigint,\\n    dep_time double precision,\\n    dep_delay_new double precision,\\n    dep_time_blk text,\\n    crs_arr_time bigint,\\n    arr_time double precision,\\n    arr_delay_new double precision,\\n    arr_time_blk text,\\n    cancelled double precision,\\n    crs_elapsed_time double precision,\\n    actual_elapsed_time double precision,\\n    distance double precision,\\n    distance_group bigint,\\n    carrier_delay double precision,\\n    weather_delay double precision,\\n    nas_delay double precision,\\n    security_delay double precision,\\n    late_aircraft_delay double precision,\\n    year bigint\\n)\\n',\n",
       " '\\n\\nDROP TABLE IF EXISTS public.airport_list CASCADE',\n",
       " '\\nCREATE TABLE IF NOT EXISTS public.airport_list\\n(\\n    id serial,\\n    origin_airport_id bigint,\\n    display_airport_name text ,\\n    origin_city_name text ,\\n    name text \\n)']"
      ]
     },
     "execution_count": 5,
     "metadata": {},
     "output_type": "execute_result"
    }
   ],
   "source": [
    "sql_query_list = sql_file.split(\";\")\n",
    "sql_query_list"
   ]
  },
  {
   "cell_type": "markdown",
   "metadata": {},
   "source": [
    " W tym miejscu wykonaj każdą z kwerend, aby zainicjować strukturę bazy danych"
   ]
  },
  {
   "cell_type": "code",
   "execution_count": 6,
   "metadata": {},
   "outputs": [
    {
     "name": "stdout",
     "output_type": "stream",
     "text": [
      "query completed\n",
      "query completed\n",
      "query completed\n",
      "query completed\n",
      "query completed\n",
      "query completed\n",
      "query completed\n",
      "query completed\n"
     ]
    }
   ],
   "source": [
    "for query in sql_query_list:\n",
    "        cursor.execute(query) \n",
    "        print(\"query completed\")"
   ]
  },
  {
   "cell_type": "markdown",
   "metadata": {},
   "source": [
    " Zatwierdznie wszystkich operacji na bazie, czyli stworzenie tabel"
   ]
  },
  {
   "cell_type": "code",
   "execution_count": 7,
   "metadata": {},
   "outputs": [],
   "source": [
    "con.commit()"
   ]
  },
  {
   "cell_type": "markdown",
   "metadata": {},
   "source": [
    " ### Sprawdzenie\n",
    " Uruchom kod poniżej, aby sprawdzić, czy ta część została poprawnie wykonana"
   ]
  },
  {
   "cell_type": "code",
   "execution_count": 8,
   "metadata": {},
   "outputs": [],
   "source": [
    "def check_if_table_exists(table_name):\n",
    "    msg = f\"Sprawdzam czy istnieje tabela {table_name}\"\n",
    "    print(msg)\n",
    "\n",
    "    query = f\"select 1 from {table_name}\"\n",
    "    # jeżeli tabela nie istnieje, ten krok zwróci wyjątek\n",
    "    cursor.execute(query)\n",
    "    print('OK!')\n"
   ]
  },
  {
   "cell_type": "code",
   "execution_count": 9,
   "metadata": {},
   "outputs": [],
   "source": [
    "tables_to_test = [\n",
    "    'aircraft',\n",
    "    'airport_weather',\n",
    "    'flight',\n",
    "    'airport_list'\n",
    "]"
   ]
  },
  {
   "cell_type": "code",
   "execution_count": 10,
   "metadata": {},
   "outputs": [
    {
     "name": "stdout",
     "output_type": "stream",
     "text": [
      "Sprawdzam czy istnieje tabela aircraft\n",
      "OK!\n",
      "Sprawdzam czy istnieje tabela airport_weather\n",
      "OK!\n",
      "Sprawdzam czy istnieje tabela flight\n",
      "OK!\n",
      "Sprawdzam czy istnieje tabela airport_list\n",
      "OK!\n"
     ]
    }
   ],
   "source": [
    "for table in tables_to_test:\n",
    "    check_if_table_exists(table)"
   ]
  },
  {
   "cell_type": "code",
   "execution_count": 11,
   "metadata": {},
   "outputs": [
    {
     "name": "stdout",
     "output_type": "stream",
     "text": [
      "Wszystko wygląda OK :) Możesz przejść do kolejnego zadania.\n"
     ]
    }
   ],
   "source": [
    "con.close()\n",
    "msg = \"Wszystko wygląda OK :) Możesz przejść do kolejnego zadania.\"\n",
    "print(msg)"
   ]
  },
  {
   "cell_type": "markdown",
   "metadata": {},
   "source": [
    " # Podsumowanie\n",
    " Za pomocą tego notatnika została zbudowana w sposób automatyczny nasza docelowa baza danych. Dzięki temu nie musimy się już martwić o jej ręczną przebudowę - w ramach potrzeby wystarczy włączyć notatnik.\n",
    " Wykonując kolejny notatnik, sprawimy, że w tabelach pojawią się również dane potrzebne do przeprowadzenia późniejszej analizy oraz wykorzystywane w raportowaniu."
   ]
  }
 ],
 "metadata": {
  "kernelspec": {
   "display_name": "Python 3 (ipykernel)",
   "language": "python",
   "name": "python3"
  },
  "language_info": {
   "codemirror_mode": {
    "name": "ipython",
    "version": 3
   },
   "file_extension": ".py",
   "mimetype": "text/x-python",
   "name": "python",
   "nbconvert_exporter": "python",
   "pygments_lexer": "ipython3",
   "version": "3.10.9"
  },
  "vscode": {
   "interpreter": {
    "hash": "38d75d0df746d7f75dd34c5d1915af59cb55786647bd68b8d9064425d7680b12"
   }
  }
 },
 "nbformat": 4,
 "nbformat_minor": 2
}
