{
 "cells": [
  {
   "cell_type": "markdown",
   "metadata": {},
   "source": [
    " # Opis notatnika\n",
    " W poprzednich krokach pobraliśmy dane oraz przygotowaliśmy bazę `Postgres` na import. Głównym celem w tym notatniku jest  odpowiednie dostosowanie struktury danych z plików źródłowych do formatu zgodnego z `Postgres`, a następnie wgranie ich na nasz serwer. Dzięki temu w późniejszych krokach możemy niezależnie użyć danych do analizy czy raportowania.\n",
    " \n",
    " Ponownie wcielasz się w rolę Data Engineera, którego zadaniem jest zasilenie bay danych pobranymi danymi. Bez poprawnego załadowania danych nie będziesz w stanie dokonać analizy eksploracyjnej, która jest jednym z wymagań dostarczonych przez klienta.\n",
    "\n",
    " Przy wykonywaniu tego notebooka przydadzą się poniższe elementy kursu oraz materiały dodatkowe:\n",
    " * `SQL - analiza danych > Zjazd 1 - materiały dodatkowe > Export danych z DB > Python` - w celu użycia połączenia razem z `Pandas`,\n",
    " * https://docs.sqlalchemy.org/en/14/core/engines.html - w celu uzupełnienia konfiguracji `Pandas` do `PostgerSQL`,\n",
    " * https://pandas.pydata.org/docs/reference/api/pandas.DataFrame.to_sql.html - eksport danych z `Pandas` na bazę danych.\n",
    "\n",
    " > Uwaga: Ze względu na wolumen danych zawarty w pliku `flight.csv`, wykonanie tego notatnika może zająć nawet kilkadziesiąt minut lub więcej!"
   ]
  },
  {
   "cell_type": "markdown",
   "metadata": {},
   "source": [
    "## Połączenie z bazą danych\n",
    "Tutaj uzupełnij konfigurację połączenia tworząc zmienne takie jak:\n",
    "- `username` - nazwa użytkownika bazy,\n",
    "- `password` - hasło do bazy,\n",
    "- `host` - adres naszej bazy danych, jeśli baza jest postawiona na naszej maszynie wtedy będzie to po prostu `localhost`,\n",
    "- `database` - nazwa bazy danych np. `postgresql`\n",
    "- `port` - domyślnie `5432`\n",
    "\n",
    "> Przetrzymywanie hasła w ten sposób nie jest bezpieczne, co było zaznaczane w trakcie kursu. Lepszym sposobem jest używanie zmiennych środowiskowych, ale na nasze potrzeby nie jest to potrzebne. Dla osób chcących zapoznać się z taką formą zalecamy ten artykuł - [klik](https://developer.vonage.com/blog/21/10/01/python-environment-variables-a-primer)."
   ]
  },
  {
   "cell_type": "code",
   "execution_count": 19,
   "metadata": {},
   "outputs": [],
   "source": [
    "import psycopg2\n",
    "from psycopg2 import connect\n",
    "import pandas as pd\n",
    "import sqlalchemy\n",
    "from sqlalchemy import create_engine\n",
    "from sqlalchemy.orm import sessionmaker\n",
    "import os"
   ]
  },
  {
   "cell_type": "code",
   "execution_count": 20,
   "metadata": {},
   "outputs": [],
   "source": [
    "dialect = 'postgresql'\n",
    "username = 'postgres'\n",
    "password = '123'\n",
    "host = 'localhost'\n",
    "database = 'airlines'\n",
    "port = None\n",
    "url = f'{dialect}://{username}:{password}@{host}/{database}'"
   ]
  },
  {
   "cell_type": "markdown",
   "metadata": {},
   "source": [
    " Z pomocą artykułu [click](https://docs.sqlalchemy.org/en/14/core/engines.html) stwórz zmienne `url` oraz `engine`. Zgodnie z dokumentacją `Pandas`, zmienna `engine` będzie potrzebna, by móc wyeksportować dane na serwer `SQL`."
   ]
  },
  {
   "cell_type": "markdown",
   "metadata": {},
   "source": [
    "W tym miejscu stwórz zmienne `url` oraz `engine`\n",
    "> Wskazówka: Zmienna `url` powinna być stworzona zgodnie ze schematem jak we wcześniej podanym artykule, jednak powinna używać zmiennych zdefiniowanych wyżej."
   ]
  },
  {
   "cell_type": "code",
   "execution_count": 21,
   "metadata": {},
   "outputs": [],
   "source": [
    "engine = create_engine(url)\n",
    "connection = engine.connect()"
   ]
  },
  {
   "cell_type": "markdown",
   "metadata": {},
   "source": [
    " # Załadowanie ramek do obszaru roboczego\n",
    " Uzupełnij implementacje funkcji `load_raw_data`, która przyjmuje jeden parametr:\n",
    " * `file_name` - nazwa pliku do zaczytania\n",
    " Jej zadaniem jest wczytanie surowego pliku, zmodyfikowanie nazw kolumn z `NAZWA_KOLUMNY` na `nazwa_kolumny` oraz zwrócenie tak zmodyfikowanej ramki danych\n",
    "\n",
    " Mogą się przydać poniższe element kursu:\n",
    " - `Python-Analiza danych -> Dzień 5 - Pandas -> Obróbka danych - częsć 1`\n",
    " - `Python-Analiza danych -> Przygotowanie do zjazdu 3 -> Wstęp do Pandas -> Wczytywanie danych do Pandas` - jakie kodowanie mają pliki?"
   ]
  },
  {
   "cell_type": "code",
   "execution_count": 22,
   "metadata": {},
   "outputs": [],
   "source": [
    "def load_raw_data(file_name):\n",
    "    df_raw = pd.read_csv(file_name)\n",
    "    df_raw.rename(columns = str.lower, inplace = True)\n",
    "    return df_raw"
   ]
  },
  {
   "cell_type": "markdown",
   "metadata": {},
   "source": [
    " # Zaczytanie poszczególnych plików do ramek\n",
    "\n",
    " W tym miejscu zaczytaj poszczególne pliki do ramek"
   ]
  },
  {
   "cell_type": "code",
   "execution_count": 23,
   "metadata": {},
   "outputs": [],
   "source": [
    "os.chdir('../data/raw')"
   ]
  },
  {
   "cell_type": "code",
   "execution_count": 24,
   "metadata": {},
   "outputs": [],
   "source": [
    "airport_df = load_raw_data('airport_list.csv')\n",
    "flight_df = load_raw_data('flight.csv')\n",
    "airport_weather_df = load_raw_data('airport_weather.csv')\n",
    "aircraft_df = load_raw_data('aircraft.csv')"
   ]
  },
  {
   "cell_type": "code",
   "execution_count": 25,
   "metadata": {},
   "outputs": [],
   "source": [
    "os.chdir('../../notebooks')"
   ]
  },
  {
   "cell_type": "markdown",
   "metadata": {},
   "source": [
    " # Eksport danych na bazę\n",
    " Zapoznaj się z dokumentacją metody `Pandas` - [to_sql](https://pandas.pydata.org/docs/reference/api/pandas.DataFrame.to_sql.html), której zadaniem jest wyeksportowanie ramki na bazę danych.\n",
    " Zwróć szczególną uwagę na poniższe parametry:\n",
    " * `if_exists` - jak ma się zachować metoda, gdy ładuje dane na bazę,\n",
    " * `con` - połączenie do bazy,\n",
    " * `name` - nazwa tabeli, do której ramka ma zostać wgrana,\n",
    " * `index` - czy dodawać index z ramki jako kolumnę,\n",
    " * `chunksize` - maksymalna liczba wierszy wgrywana za jednym razem.\n",
    "\n",
    " > **Uwaga:** \n",
    " > Przed eksportem upewnij się, że tabela jest pusta. Zwróć uwagę na pewną subtelną różnicę pomiędzy wyglądem ramki oraz tabeli docelowej na bazie danych.\n",
    "\n",
    "Następnie uzupełnij implementację metody `export_table_to_db`, która przyjmuje dwa argumenty:\n",
    " * `df` - ramka danych do eksportu,\n",
    " * `table_name` - nazwa ramki na bazie.\n",
    "\n",
    "Zalecamy, aby dodać do metody informację, która ramka jest aktualnie ładowana np.:\n",
    " `Loading data into {table_name}...`\n",
    " > Ze względu na rozmiar ramki `flight_df`, proces ten może potrwać nawet kilkadziesiąt minut! Z tego względu, na potrzeby testów, zalecamy przekazanie do procedury `export_table_to_db` np. pierwszych 5 wierszy, aby sprawdzić, czy działa, a potem wgrać cały zestaw danych - pamiętając o upszednim usunięciu tamtych."
   ]
  },
  {
   "cell_type": "code",
   "execution_count": 26,
   "metadata": {},
   "outputs": [],
   "source": [
    "def export_table_to_db(df, table_name):\n",
    "    Session = sessionmaker(bind = engine)\n",
    "    session = Session()\n",
    "    try:\n",
    "        df.to_sql(name = table_name, con = connection, if_exists = 'replace', index = False)\n",
    "    except:\n",
    "        session.rollback()\n",
    "    finally:\n",
    "        session.close()\n",
    "    return session.commit()"
   ]
  },
  {
   "cell_type": "markdown",
   "metadata": {},
   "source": [
    " ## Wgrywanie danych"
   ]
  },
  {
   "cell_type": "markdown",
   "metadata": {},
   "source": [
    " ### Wgranie `aircraft_df` do tabeli `aircraft`"
   ]
  },
  {
   "cell_type": "code",
   "execution_count": 28,
   "metadata": {},
   "outputs": [],
   "source": [
    "export_table_to_db(aircraft_df, 'aircraft')"
   ]
  },
  {
   "cell_type": "markdown",
   "metadata": {},
   "source": [
    " ### Wgranie `airport_weather_df` do tabeli `airport_weather`"
   ]
  },
  {
   "cell_type": "code",
   "execution_count": 10,
   "metadata": {},
   "outputs": [],
   "source": [
    "export_table_to_db(airport_weather_df,'airport_weather')"
   ]
  },
  {
   "cell_type": "markdown",
   "metadata": {},
   "source": [
    " ### Wgranie `flight_df` do tabeli `flight`\n",
    " > Wykonanie tej komórki może zająć kilka-kilknaście minut za względu na ilość danych w ramce."
   ]
  },
  {
   "cell_type": "code",
   "execution_count": 11,
   "metadata": {},
   "outputs": [],
   "source": [
    "export_table_to_db(flight_df,'flight')"
   ]
  },
  {
   "cell_type": "markdown",
   "metadata": {},
   "source": [
    " ### Wgranie `airport_list_df` do tabeli `airport_list`"
   ]
  },
  {
   "cell_type": "code",
   "execution_count": 12,
   "metadata": {},
   "outputs": [],
   "source": [
    "export_table_to_db(airport_df, 'airport_list')"
   ]
  },
  {
   "cell_type": "markdown",
   "metadata": {},
   "source": [
    " # Sprawdzenie poprawności wykonania notatnika ---testy zwracają błędy kodu samych testów,  nie potrafie tego rozkminić...\n",
    " Uruchom kod poniżej, aby sprawdzić, czy ta część została poprawnie wykonana"
   ]
  },
  {
   "cell_type": "code",
   "execution_count": 13,
   "metadata": {},
   "outputs": [],
   "source": [
    "def test_data_export(table_name, expected_count, expected_schema):\n",
    "    real_count = pd.read_sql(f\"SELECT COUNT(*) as cnt FROM {table_name}\",con =  engine).iloc[0][0]\n",
    "    \n",
    "    real_schema = pd.read_sql(f\"SELECT * FROM {table_name} LIMIT 0\", con =  engine)\n",
    "    real_schema = set(real_schema.columns)\n",
    "\n",
    "    expected_schema = set(expected_schema)\n",
    "\n",
    "    diff = real_schema.symmetric_difference(expected_schema)\n",
    "\n",
    "    assert len(diff) == 0, ('Nie zgadzają się kolumny tabel....'\n",
    "    f'\\tOczekiwano: {expected_schema}'\n",
    "    f'\\tOtrzymano: {real_schema}'\n",
    "    f'\\tRóżnica: {diff}')\n",
    "\n",
    "    assert expected_count == real_count, \\\n",
    "        f'Nie zgadza się liczba wierszy, oczekiwano {expected_count}, otrzymano {real_count} - sprawdź, czy nie dane nie zostały wgrane do tabeli \"{table_name}\" więcej niż raz.'"
   ]
  },
  {
   "cell_type": "markdown",
   "metadata": {},
   "source": [
    " ## Sprawdzenie tabeli `aircraft`\n",
    " Uruchom kod poniżej, aby sprawdzić, czy ta część została poprawnie wykonana"
   ]
  },
  {
   "cell_type": "code",
   "execution_count": 14,
   "metadata": {},
   "outputs": [
    {
     "ename": "AssertionError",
     "evalue": "Nie zgadzają się kolumny tabel....\tOczekiwano: {'number_of_seats', 'tail_num', 'id', 'manufacture_year'}\tOtrzymano: {'tail_num', 'number_of_seats', 'manufacture_year'}\tRóżnica: {'id'}",
     "output_type": "error",
     "traceback": [
      "\u001b[1;31m---------------------------------------------------------------------------\u001b[0m",
      "\u001b[1;31mAssertionError\u001b[0m                            Traceback (most recent call last)",
      "Cell \u001b[1;32mIn[14], line 4\u001b[0m\n\u001b[0;32m      1\u001b[0m aircraft_expected_count \u001b[38;5;241m=\u001b[39m \u001b[38;5;241m7383\u001b[39m\n\u001b[0;32m      2\u001b[0m aircraft_expected_schema \u001b[38;5;241m=\u001b[39m [\u001b[38;5;124m'\u001b[39m\u001b[38;5;124mid\u001b[39m\u001b[38;5;124m'\u001b[39m, \u001b[38;5;124m'\u001b[39m\u001b[38;5;124mmanufacture_year\u001b[39m\u001b[38;5;124m'\u001b[39m, \u001b[38;5;124m'\u001b[39m\u001b[38;5;124mtail_num\u001b[39m\u001b[38;5;124m'\u001b[39m, \u001b[38;5;124m'\u001b[39m\u001b[38;5;124mnumber_of_seats\u001b[39m\u001b[38;5;124m'\u001b[39m]\n\u001b[1;32m----> 4\u001b[0m \u001b[43mtest_data_export\u001b[49m\u001b[43m(\u001b[49m\u001b[38;5;124;43m'\u001b[39;49m\u001b[38;5;124;43maircraft\u001b[39;49m\u001b[38;5;124;43m'\u001b[39;49m\u001b[43m,\u001b[49m\u001b[43m \u001b[49m\u001b[43maircraft_expected_count\u001b[49m\u001b[43m,\u001b[49m\u001b[43m \u001b[49m\u001b[43maircraft_expected_schema\u001b[49m\u001b[43m)\u001b[49m\n",
      "Cell \u001b[1;32mIn[13], line 11\u001b[0m, in \u001b[0;36mtest_data_export\u001b[1;34m(table_name, expected_count, expected_schema)\u001b[0m\n\u001b[0;32m      7\u001b[0m expected_schema \u001b[38;5;241m=\u001b[39m \u001b[38;5;28mset\u001b[39m(expected_schema)\n\u001b[0;32m      9\u001b[0m diff \u001b[38;5;241m=\u001b[39m real_schema\u001b[38;5;241m.\u001b[39msymmetric_difference(expected_schema)\n\u001b[1;32m---> 11\u001b[0m \u001b[38;5;28;01massert\u001b[39;00m \u001b[38;5;28mlen\u001b[39m(diff) \u001b[38;5;241m==\u001b[39m \u001b[38;5;241m0\u001b[39m, (\u001b[38;5;124m'\u001b[39m\u001b[38;5;124mNie zgadzają się kolumny tabel....\u001b[39m\u001b[38;5;124m'\u001b[39m\n\u001b[0;32m     12\u001b[0m \u001b[38;5;124mf\u001b[39m\u001b[38;5;124m'\u001b[39m\u001b[38;5;130;01m\\t\u001b[39;00m\u001b[38;5;124mOczekiwano: \u001b[39m\u001b[38;5;132;01m{\u001b[39;00mexpected_schema\u001b[38;5;132;01m}\u001b[39;00m\u001b[38;5;124m'\u001b[39m\n\u001b[0;32m     13\u001b[0m \u001b[38;5;124mf\u001b[39m\u001b[38;5;124m'\u001b[39m\u001b[38;5;130;01m\\t\u001b[39;00m\u001b[38;5;124mOtrzymano: \u001b[39m\u001b[38;5;132;01m{\u001b[39;00mreal_schema\u001b[38;5;132;01m}\u001b[39;00m\u001b[38;5;124m'\u001b[39m\n\u001b[0;32m     14\u001b[0m \u001b[38;5;124mf\u001b[39m\u001b[38;5;124m'\u001b[39m\u001b[38;5;130;01m\\t\u001b[39;00m\u001b[38;5;124mRóżnica: \u001b[39m\u001b[38;5;132;01m{\u001b[39;00mdiff\u001b[38;5;132;01m}\u001b[39;00m\u001b[38;5;124m'\u001b[39m)\n\u001b[0;32m     16\u001b[0m \u001b[38;5;28;01massert\u001b[39;00m expected_count \u001b[38;5;241m==\u001b[39m real_count, \\\n\u001b[0;32m     17\u001b[0m     \u001b[38;5;124mf\u001b[39m\u001b[38;5;124m'\u001b[39m\u001b[38;5;124mNie zgadza się liczba wierszy, oczekiwano \u001b[39m\u001b[38;5;132;01m{\u001b[39;00mexpected_count\u001b[38;5;132;01m}\u001b[39;00m\u001b[38;5;124m, otrzymano \u001b[39m\u001b[38;5;132;01m{\u001b[39;00mreal_count\u001b[38;5;132;01m}\u001b[39;00m\u001b[38;5;124m - sprawdź, czy nie dane nie zostały wgrane do tabeli \u001b[39m\u001b[38;5;124m\"\u001b[39m\u001b[38;5;132;01m{\u001b[39;00mtable_name\u001b[38;5;132;01m}\u001b[39;00m\u001b[38;5;124m\"\u001b[39m\u001b[38;5;124m więcej niż raz.\u001b[39m\u001b[38;5;124m'\u001b[39m\n",
      "\u001b[1;31mAssertionError\u001b[0m: Nie zgadzają się kolumny tabel....\tOczekiwano: {'number_of_seats', 'tail_num', 'id', 'manufacture_year'}\tOtrzymano: {'tail_num', 'number_of_seats', 'manufacture_year'}\tRóżnica: {'id'}"
     ]
    }
   ],
   "source": [
    "aircraft_expected_count = 7383\n",
    "aircraft_expected_schema = ['id', 'manufacture_year', 'tail_num', 'number_of_seats']\n",
    "\n",
    "test_data_export('aircraft', aircraft_expected_count, aircraft_expected_schema)"
   ]
  },
  {
   "cell_type": "markdown",
   "metadata": {},
   "source": [
    " ## Sprawdzenie tabeli `airport_weather`\n",
    " Uruchom kod poniżej, aby sprawdzić, czy ta część została poprawnie wykonana"
   ]
  },
  {
   "cell_type": "code",
   "execution_count": 15,
   "metadata": {
    "scrolled": true
   },
   "outputs": [
    {
     "ename": "AssertionError",
     "evalue": "Nie zgadzają się kolumny tabel....\tOczekiwano: {'pgtm', 'wdf5', 'wt07', 'tavg', 'wt03', 'prcp', 'sn32', 'sx32', 'wt04', 'tsun', 'awnd', 'wt11', 'tmax', 'tmin', 'name', 'wdf2', 'tobs', 'snow', 'date', 'psun', 'wsf5', 'id', 'wt02', 'wt10', 'wt01', 'wt06', 'wt09', 'snwd', 'wt05', 'wt08', 'wesd', 'station', 'wsf2', 'wt18'}\tOtrzymano: {'pgtm', 'wdf5', 'wt07', 'tavg', 'wt03', 'prcp', 'sn32', 'sx32', 'wt04', 'tsun', 'awnd', 'wt11', 'tmax', 'tmin', 'name', 'wdf2', 'tobs', 'snow', 'date', 'psun', 'wsf5', 'wt02', 'wt10', 'wt01', 'wt06', 'wt09', 'snwd', 'wt05', 'wt08', 'wesd', 'station', 'wsf2', 'wt18'}\tRóżnica: {'id'}",
     "output_type": "error",
     "traceback": [
      "\u001b[1;31m---------------------------------------------------------------------------\u001b[0m",
      "\u001b[1;31mAssertionError\u001b[0m                            Traceback (most recent call last)",
      "Cell \u001b[1;32mIn[15], line 8\u001b[0m\n\u001b[0;32m      1\u001b[0m airport_weather_expected_count \u001b[38;5;241m=\u001b[39m \u001b[38;5;241m46226\u001b[39m\n\u001b[0;32m      2\u001b[0m airport_weather_expected_schema \u001b[38;5;241m=\u001b[39m [\n\u001b[0;32m      3\u001b[0m        \u001b[38;5;124m'\u001b[39m\u001b[38;5;124mid\u001b[39m\u001b[38;5;124m'\u001b[39m, \u001b[38;5;124m'\u001b[39m\u001b[38;5;124mstation\u001b[39m\u001b[38;5;124m'\u001b[39m, \u001b[38;5;124m'\u001b[39m\u001b[38;5;124mname\u001b[39m\u001b[38;5;124m'\u001b[39m, \u001b[38;5;124m'\u001b[39m\u001b[38;5;124mdate\u001b[39m\u001b[38;5;124m'\u001b[39m, \u001b[38;5;124m'\u001b[39m\u001b[38;5;124mawnd\u001b[39m\u001b[38;5;124m'\u001b[39m, \u001b[38;5;124m'\u001b[39m\u001b[38;5;124mprcp\u001b[39m\u001b[38;5;124m'\u001b[39m, \u001b[38;5;124m'\u001b[39m\u001b[38;5;124msnow\u001b[39m\u001b[38;5;124m'\u001b[39m, \u001b[38;5;124m'\u001b[39m\u001b[38;5;124msnwd\u001b[39m\u001b[38;5;124m'\u001b[39m, \u001b[38;5;124m'\u001b[39m\u001b[38;5;124mtavg\u001b[39m\u001b[38;5;124m'\u001b[39m, \n\u001b[0;32m      4\u001b[0m        \u001b[38;5;124m'\u001b[39m\u001b[38;5;124mtmax\u001b[39m\u001b[38;5;124m'\u001b[39m, \u001b[38;5;124m'\u001b[39m\u001b[38;5;124mtmin\u001b[39m\u001b[38;5;124m'\u001b[39m, \u001b[38;5;124m'\u001b[39m\u001b[38;5;124mwdf2\u001b[39m\u001b[38;5;124m'\u001b[39m, \u001b[38;5;124m'\u001b[39m\u001b[38;5;124mwdf5\u001b[39m\u001b[38;5;124m'\u001b[39m, \u001b[38;5;124m'\u001b[39m\u001b[38;5;124mwsf2\u001b[39m\u001b[38;5;124m'\u001b[39m, \u001b[38;5;124m'\u001b[39m\u001b[38;5;124mwsf5\u001b[39m\u001b[38;5;124m'\u001b[39m, \u001b[38;5;124m'\u001b[39m\u001b[38;5;124mwt01\u001b[39m\u001b[38;5;124m'\u001b[39m, \u001b[38;5;124m'\u001b[39m\u001b[38;5;124mwt08\u001b[39m\u001b[38;5;124m'\u001b[39m, \u001b[38;5;124m'\u001b[39m\u001b[38;5;124mwt02\u001b[39m\u001b[38;5;124m'\u001b[39m,\n\u001b[0;32m      5\u001b[0m        \u001b[38;5;124m'\u001b[39m\u001b[38;5;124mwt03\u001b[39m\u001b[38;5;124m'\u001b[39m, \u001b[38;5;124m'\u001b[39m\u001b[38;5;124mwt04\u001b[39m\u001b[38;5;124m'\u001b[39m, \u001b[38;5;124m'\u001b[39m\u001b[38;5;124mwt09\u001b[39m\u001b[38;5;124m'\u001b[39m, \u001b[38;5;124m'\u001b[39m\u001b[38;5;124mwt06\u001b[39m\u001b[38;5;124m'\u001b[39m, \u001b[38;5;124m'\u001b[39m\u001b[38;5;124mwt05\u001b[39m\u001b[38;5;124m'\u001b[39m, \u001b[38;5;124m'\u001b[39m\u001b[38;5;124mpgtm\u001b[39m\u001b[38;5;124m'\u001b[39m, \u001b[38;5;124m'\u001b[39m\u001b[38;5;124mwt10\u001b[39m\u001b[38;5;124m'\u001b[39m, \u001b[38;5;124m'\u001b[39m\u001b[38;5;124mwesd\u001b[39m\u001b[38;5;124m'\u001b[39m, \u001b[38;5;124m'\u001b[39m\u001b[38;5;124msn32\u001b[39m\u001b[38;5;124m'\u001b[39m,\n\u001b[0;32m      6\u001b[0m        \u001b[38;5;124m'\u001b[39m\u001b[38;5;124msx32\u001b[39m\u001b[38;5;124m'\u001b[39m, \u001b[38;5;124m'\u001b[39m\u001b[38;5;124mpsun\u001b[39m\u001b[38;5;124m'\u001b[39m, \u001b[38;5;124m'\u001b[39m\u001b[38;5;124mtsun\u001b[39m\u001b[38;5;124m'\u001b[39m, \u001b[38;5;124m'\u001b[39m\u001b[38;5;124mtobs\u001b[39m\u001b[38;5;124m'\u001b[39m, \u001b[38;5;124m'\u001b[39m\u001b[38;5;124mwt07\u001b[39m\u001b[38;5;124m'\u001b[39m, \u001b[38;5;124m'\u001b[39m\u001b[38;5;124mwt11\u001b[39m\u001b[38;5;124m'\u001b[39m, \u001b[38;5;124m'\u001b[39m\u001b[38;5;124mwt18\u001b[39m\u001b[38;5;124m'\u001b[39m]\n\u001b[1;32m----> 8\u001b[0m \u001b[43mtest_data_export\u001b[49m\u001b[43m(\u001b[49m\u001b[38;5;124;43m'\u001b[39;49m\u001b[38;5;124;43mairport_weather\u001b[39;49m\u001b[38;5;124;43m'\u001b[39;49m\u001b[43m,\u001b[49m\u001b[43m \u001b[49m\u001b[43mairport_weather_expected_count\u001b[49m\u001b[43m,\u001b[49m\u001b[43m \u001b[49m\u001b[43mairport_weather_expected_schema\u001b[49m\u001b[43m)\u001b[49m\n",
      "Cell \u001b[1;32mIn[13], line 11\u001b[0m, in \u001b[0;36mtest_data_export\u001b[1;34m(table_name, expected_count, expected_schema)\u001b[0m\n\u001b[0;32m      7\u001b[0m expected_schema \u001b[38;5;241m=\u001b[39m \u001b[38;5;28mset\u001b[39m(expected_schema)\n\u001b[0;32m      9\u001b[0m diff \u001b[38;5;241m=\u001b[39m real_schema\u001b[38;5;241m.\u001b[39msymmetric_difference(expected_schema)\n\u001b[1;32m---> 11\u001b[0m \u001b[38;5;28;01massert\u001b[39;00m \u001b[38;5;28mlen\u001b[39m(diff) \u001b[38;5;241m==\u001b[39m \u001b[38;5;241m0\u001b[39m, (\u001b[38;5;124m'\u001b[39m\u001b[38;5;124mNie zgadzają się kolumny tabel....\u001b[39m\u001b[38;5;124m'\u001b[39m\n\u001b[0;32m     12\u001b[0m \u001b[38;5;124mf\u001b[39m\u001b[38;5;124m'\u001b[39m\u001b[38;5;130;01m\\t\u001b[39;00m\u001b[38;5;124mOczekiwano: \u001b[39m\u001b[38;5;132;01m{\u001b[39;00mexpected_schema\u001b[38;5;132;01m}\u001b[39;00m\u001b[38;5;124m'\u001b[39m\n\u001b[0;32m     13\u001b[0m \u001b[38;5;124mf\u001b[39m\u001b[38;5;124m'\u001b[39m\u001b[38;5;130;01m\\t\u001b[39;00m\u001b[38;5;124mOtrzymano: \u001b[39m\u001b[38;5;132;01m{\u001b[39;00mreal_schema\u001b[38;5;132;01m}\u001b[39;00m\u001b[38;5;124m'\u001b[39m\n\u001b[0;32m     14\u001b[0m \u001b[38;5;124mf\u001b[39m\u001b[38;5;124m'\u001b[39m\u001b[38;5;130;01m\\t\u001b[39;00m\u001b[38;5;124mRóżnica: \u001b[39m\u001b[38;5;132;01m{\u001b[39;00mdiff\u001b[38;5;132;01m}\u001b[39;00m\u001b[38;5;124m'\u001b[39m)\n\u001b[0;32m     16\u001b[0m \u001b[38;5;28;01massert\u001b[39;00m expected_count \u001b[38;5;241m==\u001b[39m real_count, \\\n\u001b[0;32m     17\u001b[0m     \u001b[38;5;124mf\u001b[39m\u001b[38;5;124m'\u001b[39m\u001b[38;5;124mNie zgadza się liczba wierszy, oczekiwano \u001b[39m\u001b[38;5;132;01m{\u001b[39;00mexpected_count\u001b[38;5;132;01m}\u001b[39;00m\u001b[38;5;124m, otrzymano \u001b[39m\u001b[38;5;132;01m{\u001b[39;00mreal_count\u001b[38;5;132;01m}\u001b[39;00m\u001b[38;5;124m - sprawdź, czy nie dane nie zostały wgrane do tabeli \u001b[39m\u001b[38;5;124m\"\u001b[39m\u001b[38;5;132;01m{\u001b[39;00mtable_name\u001b[38;5;132;01m}\u001b[39;00m\u001b[38;5;124m\"\u001b[39m\u001b[38;5;124m więcej niż raz.\u001b[39m\u001b[38;5;124m'\u001b[39m\n",
      "\u001b[1;31mAssertionError\u001b[0m: Nie zgadzają się kolumny tabel....\tOczekiwano: {'pgtm', 'wdf5', 'wt07', 'tavg', 'wt03', 'prcp', 'sn32', 'sx32', 'wt04', 'tsun', 'awnd', 'wt11', 'tmax', 'tmin', 'name', 'wdf2', 'tobs', 'snow', 'date', 'psun', 'wsf5', 'id', 'wt02', 'wt10', 'wt01', 'wt06', 'wt09', 'snwd', 'wt05', 'wt08', 'wesd', 'station', 'wsf2', 'wt18'}\tOtrzymano: {'pgtm', 'wdf5', 'wt07', 'tavg', 'wt03', 'prcp', 'sn32', 'sx32', 'wt04', 'tsun', 'awnd', 'wt11', 'tmax', 'tmin', 'name', 'wdf2', 'tobs', 'snow', 'date', 'psun', 'wsf5', 'wt02', 'wt10', 'wt01', 'wt06', 'wt09', 'snwd', 'wt05', 'wt08', 'wesd', 'station', 'wsf2', 'wt18'}\tRóżnica: {'id'}"
     ]
    }
   ],
   "source": [
    "airport_weather_expected_count = 46226\n",
    "airport_weather_expected_schema = [\n",
    "       'id', 'station', 'name', 'date', 'awnd', 'prcp', 'snow', 'snwd', 'tavg', \n",
    "       'tmax', 'tmin', 'wdf2', 'wdf5', 'wsf2', 'wsf5', 'wt01', 'wt08', 'wt02',\n",
    "       'wt03', 'wt04', 'wt09', 'wt06', 'wt05', 'pgtm', 'wt10', 'wesd', 'sn32',\n",
    "       'sx32', 'psun', 'tsun', 'tobs', 'wt07', 'wt11', 'wt18']\n",
    "\n",
    "test_data_export('airport_weather', airport_weather_expected_count, airport_weather_expected_schema)"
   ]
  },
  {
   "cell_type": "markdown",
   "metadata": {},
   "source": [
    "# nie zrzucam indexów do bazy"
   ]
  },
  {
   "cell_type": "markdown",
   "metadata": {},
   "source": [
    " ## Sprawdzenie tabeli `flight`\n",
    " Uruchom kod poniżej, aby sprawdzić, czy ta część została poprawnie wykonana"
   ]
  },
  {
   "cell_type": "code",
   "execution_count": 16,
   "metadata": {},
   "outputs": [
    {
     "ename": "AssertionError",
     "evalue": "Nie zgadzają się kolumny tabel....\tOczekiwano: {'carrier_delay', 'distance_group', 'day_of_week', 'op_carrier_fl_num', 'dep_time_blk', 'distance', 'year', 'weather_delay', 'arr_time_blk', 'security_delay', 'crs_arr_time', 'late_aircraft_delay', 'nas_delay', 'arr_delay_new', 'month', 'dep_delay_new', 'arr_time', 'origin_airport_id', 'dest_airport_id', 'cancelled', 'id', 'crs_dep_time', 'day_of_month', 'actual_elapsed_time', 'dep_time', 'tail_num', 'crs_elapsed_time', 'op_unique_carrier'}\tOtrzymano: {'carrier_delay', 'distance_group', 'day_of_week', 'op_carrier_fl_num', 'dep_time_blk', 'distance', 'year', 'weather_delay', 'arr_time_blk', 'security_delay', 'crs_arr_time', 'late_aircraft_delay', 'nas_delay', 'arr_delay_new', 'month', 'dep_delay_new', 'arr_time', 'origin_airport_id', 'dest_airport_id', 'cancelled', 'crs_dep_time', 'day_of_month', 'actual_elapsed_time', 'dep_time', 'tail_num', 'crs_elapsed_time', 'op_unique_carrier'}\tRóżnica: {'id'}",
     "output_type": "error",
     "traceback": [
      "\u001b[1;31m---------------------------------------------------------------------------\u001b[0m",
      "\u001b[1;31mAssertionError\u001b[0m                            Traceback (most recent call last)",
      "Cell \u001b[1;32mIn[16], line 11\u001b[0m\n\u001b[0;32m      1\u001b[0m flight_expected_count \u001b[38;5;241m=\u001b[39m \u001b[38;5;241m1386120\u001b[39m\n\u001b[0;32m      2\u001b[0m flight_expected_schema \u001b[38;5;241m=\u001b[39m [\n\u001b[0;32m      3\u001b[0m        \u001b[38;5;124m'\u001b[39m\u001b[38;5;124mid\u001b[39m\u001b[38;5;124m'\u001b[39m, \u001b[38;5;124m'\u001b[39m\u001b[38;5;124mmonth\u001b[39m\u001b[38;5;124m'\u001b[39m, \u001b[38;5;124m'\u001b[39m\u001b[38;5;124mday_of_month\u001b[39m\u001b[38;5;124m'\u001b[39m, \u001b[38;5;124m'\u001b[39m\u001b[38;5;124mday_of_week\u001b[39m\u001b[38;5;124m'\u001b[39m, \u001b[38;5;124m'\u001b[39m\u001b[38;5;124mop_unique_carrier\u001b[39m\u001b[38;5;124m'\u001b[39m, \u001b[38;5;124m'\u001b[39m\u001b[38;5;124mtail_num\u001b[39m\u001b[38;5;124m'\u001b[39m,\n\u001b[0;32m      4\u001b[0m        \u001b[38;5;124m'\u001b[39m\u001b[38;5;124mop_carrier_fl_num\u001b[39m\u001b[38;5;124m'\u001b[39m, \u001b[38;5;124m'\u001b[39m\u001b[38;5;124morigin_airport_id\u001b[39m\u001b[38;5;124m'\u001b[39m, \u001b[38;5;124m'\u001b[39m\u001b[38;5;124mdest_airport_id\u001b[39m\u001b[38;5;124m'\u001b[39m,\n\u001b[1;32m   (...)\u001b[0m\n\u001b[0;32m      8\u001b[0m        \u001b[38;5;124m'\u001b[39m\u001b[38;5;124mdistance_group\u001b[39m\u001b[38;5;124m'\u001b[39m, \u001b[38;5;124m'\u001b[39m\u001b[38;5;124myear\u001b[39m\u001b[38;5;124m'\u001b[39m, \u001b[38;5;124m'\u001b[39m\u001b[38;5;124mcarrier_delay\u001b[39m\u001b[38;5;124m'\u001b[39m, \u001b[38;5;124m'\u001b[39m\u001b[38;5;124mweather_delay\u001b[39m\u001b[38;5;124m'\u001b[39m, \u001b[38;5;124m'\u001b[39m\u001b[38;5;124mnas_delay\u001b[39m\u001b[38;5;124m'\u001b[39m,\n\u001b[0;32m      9\u001b[0m        \u001b[38;5;124m'\u001b[39m\u001b[38;5;124msecurity_delay\u001b[39m\u001b[38;5;124m'\u001b[39m, \u001b[38;5;124m'\u001b[39m\u001b[38;5;124mlate_aircraft_delay\u001b[39m\u001b[38;5;124m'\u001b[39m]\n\u001b[1;32m---> 11\u001b[0m \u001b[43mtest_data_export\u001b[49m\u001b[43m(\u001b[49m\u001b[38;5;124;43m'\u001b[39;49m\u001b[38;5;124;43mflight\u001b[39;49m\u001b[38;5;124;43m'\u001b[39;49m\u001b[43m,\u001b[49m\u001b[43m \u001b[49m\u001b[43mflight_expected_count\u001b[49m\u001b[43m,\u001b[49m\u001b[43m \u001b[49m\u001b[43mflight_expected_schema\u001b[49m\u001b[43m)\u001b[49m\n",
      "Cell \u001b[1;32mIn[13], line 11\u001b[0m, in \u001b[0;36mtest_data_export\u001b[1;34m(table_name, expected_count, expected_schema)\u001b[0m\n\u001b[0;32m      7\u001b[0m expected_schema \u001b[38;5;241m=\u001b[39m \u001b[38;5;28mset\u001b[39m(expected_schema)\n\u001b[0;32m      9\u001b[0m diff \u001b[38;5;241m=\u001b[39m real_schema\u001b[38;5;241m.\u001b[39msymmetric_difference(expected_schema)\n\u001b[1;32m---> 11\u001b[0m \u001b[38;5;28;01massert\u001b[39;00m \u001b[38;5;28mlen\u001b[39m(diff) \u001b[38;5;241m==\u001b[39m \u001b[38;5;241m0\u001b[39m, (\u001b[38;5;124m'\u001b[39m\u001b[38;5;124mNie zgadzają się kolumny tabel....\u001b[39m\u001b[38;5;124m'\u001b[39m\n\u001b[0;32m     12\u001b[0m \u001b[38;5;124mf\u001b[39m\u001b[38;5;124m'\u001b[39m\u001b[38;5;130;01m\\t\u001b[39;00m\u001b[38;5;124mOczekiwano: \u001b[39m\u001b[38;5;132;01m{\u001b[39;00mexpected_schema\u001b[38;5;132;01m}\u001b[39;00m\u001b[38;5;124m'\u001b[39m\n\u001b[0;32m     13\u001b[0m \u001b[38;5;124mf\u001b[39m\u001b[38;5;124m'\u001b[39m\u001b[38;5;130;01m\\t\u001b[39;00m\u001b[38;5;124mOtrzymano: \u001b[39m\u001b[38;5;132;01m{\u001b[39;00mreal_schema\u001b[38;5;132;01m}\u001b[39;00m\u001b[38;5;124m'\u001b[39m\n\u001b[0;32m     14\u001b[0m \u001b[38;5;124mf\u001b[39m\u001b[38;5;124m'\u001b[39m\u001b[38;5;130;01m\\t\u001b[39;00m\u001b[38;5;124mRóżnica: \u001b[39m\u001b[38;5;132;01m{\u001b[39;00mdiff\u001b[38;5;132;01m}\u001b[39;00m\u001b[38;5;124m'\u001b[39m)\n\u001b[0;32m     16\u001b[0m \u001b[38;5;28;01massert\u001b[39;00m expected_count \u001b[38;5;241m==\u001b[39m real_count, \\\n\u001b[0;32m     17\u001b[0m     \u001b[38;5;124mf\u001b[39m\u001b[38;5;124m'\u001b[39m\u001b[38;5;124mNie zgadza się liczba wierszy, oczekiwano \u001b[39m\u001b[38;5;132;01m{\u001b[39;00mexpected_count\u001b[38;5;132;01m}\u001b[39;00m\u001b[38;5;124m, otrzymano \u001b[39m\u001b[38;5;132;01m{\u001b[39;00mreal_count\u001b[38;5;132;01m}\u001b[39;00m\u001b[38;5;124m - sprawdź, czy nie dane nie zostały wgrane do tabeli \u001b[39m\u001b[38;5;124m\"\u001b[39m\u001b[38;5;132;01m{\u001b[39;00mtable_name\u001b[38;5;132;01m}\u001b[39;00m\u001b[38;5;124m\"\u001b[39m\u001b[38;5;124m więcej niż raz.\u001b[39m\u001b[38;5;124m'\u001b[39m\n",
      "\u001b[1;31mAssertionError\u001b[0m: Nie zgadzają się kolumny tabel....\tOczekiwano: {'carrier_delay', 'distance_group', 'day_of_week', 'op_carrier_fl_num', 'dep_time_blk', 'distance', 'year', 'weather_delay', 'arr_time_blk', 'security_delay', 'crs_arr_time', 'late_aircraft_delay', 'nas_delay', 'arr_delay_new', 'month', 'dep_delay_new', 'arr_time', 'origin_airport_id', 'dest_airport_id', 'cancelled', 'id', 'crs_dep_time', 'day_of_month', 'actual_elapsed_time', 'dep_time', 'tail_num', 'crs_elapsed_time', 'op_unique_carrier'}\tOtrzymano: {'carrier_delay', 'distance_group', 'day_of_week', 'op_carrier_fl_num', 'dep_time_blk', 'distance', 'year', 'weather_delay', 'arr_time_blk', 'security_delay', 'crs_arr_time', 'late_aircraft_delay', 'nas_delay', 'arr_delay_new', 'month', 'dep_delay_new', 'arr_time', 'origin_airport_id', 'dest_airport_id', 'cancelled', 'crs_dep_time', 'day_of_month', 'actual_elapsed_time', 'dep_time', 'tail_num', 'crs_elapsed_time', 'op_unique_carrier'}\tRóżnica: {'id'}"
     ]
    }
   ],
   "source": [
    "flight_expected_count = 1386120\n",
    "flight_expected_schema = [\n",
    "       'id', 'month', 'day_of_month', 'day_of_week', 'op_unique_carrier', 'tail_num',\n",
    "       'op_carrier_fl_num', 'origin_airport_id', 'dest_airport_id',\n",
    "       'crs_dep_time', 'dep_time', 'dep_delay_new', 'dep_time_blk',\n",
    "       'crs_arr_time', 'arr_time', 'arr_delay_new', 'arr_time_blk',\n",
    "       'cancelled', 'crs_elapsed_time', 'actual_elapsed_time', 'distance',\n",
    "       'distance_group', 'year', 'carrier_delay', 'weather_delay', 'nas_delay',\n",
    "       'security_delay', 'late_aircraft_delay']\n",
    "\n",
    "test_data_export('flight', flight_expected_count, flight_expected_schema)"
   ]
  },
  {
   "cell_type": "markdown",
   "metadata": {},
   "source": [
    " ## Sprawdzenie tabeli `airport_list`\n",
    " Uruchom kod poniżej, aby sprawdzić, czy ta część została poprawnie wykonana"
   ]
  },
  {
   "cell_type": "code",
   "execution_count": 17,
   "metadata": {},
   "outputs": [
    {
     "ename": "AssertionError",
     "evalue": "Nie zgadzają się kolumny tabel....\tOczekiwano: {'origin_airport_id', 'origin_city_name', 'id', 'display_airport_name', 'name'}\tOtrzymano: {'origin_airport_id', 'display_airport_name', 'name', 'origin_city_name'}\tRóżnica: {'id'}",
     "output_type": "error",
     "traceback": [
      "\u001b[1;31m---------------------------------------------------------------------------\u001b[0m",
      "\u001b[1;31mAssertionError\u001b[0m                            Traceback (most recent call last)",
      "Cell \u001b[1;32mIn[17], line 4\u001b[0m\n\u001b[0;32m      1\u001b[0m airport_list_expected_count \u001b[38;5;241m=\u001b[39m \u001b[38;5;241m97\u001b[39m\n\u001b[0;32m      2\u001b[0m airport_list_expected_schema \u001b[38;5;241m=\u001b[39m [\u001b[38;5;124m'\u001b[39m\u001b[38;5;124mid\u001b[39m\u001b[38;5;124m'\u001b[39m, \u001b[38;5;124m'\u001b[39m\u001b[38;5;124morigin_airport_id\u001b[39m\u001b[38;5;124m'\u001b[39m, \u001b[38;5;124m'\u001b[39m\u001b[38;5;124mdisplay_airport_name\u001b[39m\u001b[38;5;124m'\u001b[39m, \u001b[38;5;124m'\u001b[39m\u001b[38;5;124morigin_city_name\u001b[39m\u001b[38;5;124m'\u001b[39m, \u001b[38;5;124m'\u001b[39m\u001b[38;5;124mname\u001b[39m\u001b[38;5;124m'\u001b[39m]\n\u001b[1;32m----> 4\u001b[0m \u001b[43mtest_data_export\u001b[49m\u001b[43m(\u001b[49m\u001b[38;5;124;43m'\u001b[39;49m\u001b[38;5;124;43mairport_list\u001b[39;49m\u001b[38;5;124;43m'\u001b[39;49m\u001b[43m,\u001b[49m\u001b[43m \u001b[49m\u001b[43mairport_list_expected_count\u001b[49m\u001b[43m,\u001b[49m\u001b[43m \u001b[49m\u001b[43mairport_list_expected_schema\u001b[49m\u001b[43m)\u001b[49m\n\u001b[0;32m      5\u001b[0m connection\u001b[38;5;241m.\u001b[39mclose()\n",
      "Cell \u001b[1;32mIn[13], line 11\u001b[0m, in \u001b[0;36mtest_data_export\u001b[1;34m(table_name, expected_count, expected_schema)\u001b[0m\n\u001b[0;32m      7\u001b[0m expected_schema \u001b[38;5;241m=\u001b[39m \u001b[38;5;28mset\u001b[39m(expected_schema)\n\u001b[0;32m      9\u001b[0m diff \u001b[38;5;241m=\u001b[39m real_schema\u001b[38;5;241m.\u001b[39msymmetric_difference(expected_schema)\n\u001b[1;32m---> 11\u001b[0m \u001b[38;5;28;01massert\u001b[39;00m \u001b[38;5;28mlen\u001b[39m(diff) \u001b[38;5;241m==\u001b[39m \u001b[38;5;241m0\u001b[39m, (\u001b[38;5;124m'\u001b[39m\u001b[38;5;124mNie zgadzają się kolumny tabel....\u001b[39m\u001b[38;5;124m'\u001b[39m\n\u001b[0;32m     12\u001b[0m \u001b[38;5;124mf\u001b[39m\u001b[38;5;124m'\u001b[39m\u001b[38;5;130;01m\\t\u001b[39;00m\u001b[38;5;124mOczekiwano: \u001b[39m\u001b[38;5;132;01m{\u001b[39;00mexpected_schema\u001b[38;5;132;01m}\u001b[39;00m\u001b[38;5;124m'\u001b[39m\n\u001b[0;32m     13\u001b[0m \u001b[38;5;124mf\u001b[39m\u001b[38;5;124m'\u001b[39m\u001b[38;5;130;01m\\t\u001b[39;00m\u001b[38;5;124mOtrzymano: \u001b[39m\u001b[38;5;132;01m{\u001b[39;00mreal_schema\u001b[38;5;132;01m}\u001b[39;00m\u001b[38;5;124m'\u001b[39m\n\u001b[0;32m     14\u001b[0m \u001b[38;5;124mf\u001b[39m\u001b[38;5;124m'\u001b[39m\u001b[38;5;130;01m\\t\u001b[39;00m\u001b[38;5;124mRóżnica: \u001b[39m\u001b[38;5;132;01m{\u001b[39;00mdiff\u001b[38;5;132;01m}\u001b[39;00m\u001b[38;5;124m'\u001b[39m)\n\u001b[0;32m     16\u001b[0m \u001b[38;5;28;01massert\u001b[39;00m expected_count \u001b[38;5;241m==\u001b[39m real_count, \\\n\u001b[0;32m     17\u001b[0m     \u001b[38;5;124mf\u001b[39m\u001b[38;5;124m'\u001b[39m\u001b[38;5;124mNie zgadza się liczba wierszy, oczekiwano \u001b[39m\u001b[38;5;132;01m{\u001b[39;00mexpected_count\u001b[38;5;132;01m}\u001b[39;00m\u001b[38;5;124m, otrzymano \u001b[39m\u001b[38;5;132;01m{\u001b[39;00mreal_count\u001b[38;5;132;01m}\u001b[39;00m\u001b[38;5;124m - sprawdź, czy nie dane nie zostały wgrane do tabeli \u001b[39m\u001b[38;5;124m\"\u001b[39m\u001b[38;5;132;01m{\u001b[39;00mtable_name\u001b[38;5;132;01m}\u001b[39;00m\u001b[38;5;124m\"\u001b[39m\u001b[38;5;124m więcej niż raz.\u001b[39m\u001b[38;5;124m'\u001b[39m\n",
      "\u001b[1;31mAssertionError\u001b[0m: Nie zgadzają się kolumny tabel....\tOczekiwano: {'origin_airport_id', 'origin_city_name', 'id', 'display_airport_name', 'name'}\tOtrzymano: {'origin_airport_id', 'display_airport_name', 'name', 'origin_city_name'}\tRóżnica: {'id'}"
     ]
    }
   ],
   "source": [
    "airport_list_expected_count = 97\n",
    "airport_list_expected_schema = ['id', 'origin_airport_id', 'display_airport_name', 'origin_city_name', 'name']\n",
    "\n",
    "test_data_export('airport_list', airport_list_expected_count, airport_list_expected_schema)\n",
    "connection.close()"
   ]
  },
  {
   "cell_type": "code",
   "execution_count": null,
   "metadata": {},
   "outputs": [],
   "source": [
    "msg = \"Wszystko wygląda OK :) Możesz przejść do kolejnego kroku.\"\n",
    "print(msg)"
   ]
  },
  {
   "cell_type": "markdown",
   "metadata": {},
   "source": [
    " # Podsumowanie\n",
    " W tym notatniku załadowaliśmy pobrane wcześniej pliki na bazę danych. Dzięki temu stworzyliśmy centralne miejsce ich magazynowania, co wykorzystamy zarówno przy analizie danych, jak i przy późniejszej budowie systemu raportowego."
   ]
  }
 ],
 "metadata": {
  "kernelspec": {
   "display_name": "Python 3 (ipykernel)",
   "language": "python",
   "name": "python3"
  },
  "language_info": {
   "codemirror_mode": {
    "name": "ipython",
    "version": 3
   },
   "file_extension": ".py",
   "mimetype": "text/x-python",
   "name": "python",
   "nbconvert_exporter": "python",
   "pygments_lexer": "ipython3",
   "version": "3.10.9"
  },
  "vscode": {
   "interpreter": {
    "hash": "38d75d0df746d7f75dd34c5d1915af59cb55786647bd68b8d9064425d7680b12"
   }
  }
 },
 "nbformat": 4,
 "nbformat_minor": 2
}
