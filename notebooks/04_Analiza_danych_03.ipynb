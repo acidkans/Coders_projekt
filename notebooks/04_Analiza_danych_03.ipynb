{
 "cells": [
  {
   "cell_type": "markdown",
   "metadata": {},
   "source": [
    " # Opis notatnika\n",
    " Zmierzamy do końca analizy danych, które zostały nam udostępnione. Ten krok dodaje jeszcze więcej informacji do naszego wyjściowego zbioru. Tym razem sprawdzimy między innymi to, czy opóźnienia lotów zależne są od trasy czy warunków pogodowych.\n",
    "\n",
    " Zanim jednak do tego przejdziemy, należy, podobnie jak w poprzednich krokach, skonfigurować odpowiednio notatnik.\n",
    " \n",
    " W tej części warsztatu ponownie wcielasz się w rolę Analiyka Danych, którego zadaniem jest wykonanie analizy eksplotacyjnej zbioru danych - jedno z wymagań dostarczonych przez klienta."
   ]
  },
  {
   "cell_type": "markdown",
   "metadata": {},
   "source": [
    " Tutaj zaimportuj wymagane biblioteki"
   ]
  },
  {
   "cell_type": "code",
   "execution_count": 24,
   "metadata": {},
   "outputs": [],
   "source": [
    "import pandas as pd\n",
    "import sqlalchemy\n",
    "from sqlalchemy import create_engine, text as sql_query\n",
    "import plotly.express as px\n",
    "import matplotlib.pyplot as plt\n",
    "import os\n",
    "import datetime as dt"
   ]
  },
  {
   "cell_type": "markdown",
   "metadata": {},
   "source": [
    " ## Połączenie z bazą danych\n",
    " Tutaj uzupełnij konfigurację połączenia"
   ]
  },
  {
   "cell_type": "code",
   "execution_count": 25,
   "metadata": {},
   "outputs": [],
   "source": [
    "username = 'postgres'\n",
    "password = '123'\n",
    "url = 'localhost'\n",
    "host = 'localhost'\n",
    "database = 'airlines'\n",
    "port = None"
   ]
  },
  {
   "cell_type": "markdown",
   "metadata": {},
   "source": [
    " Tutaj stwórz zmienną engine, która zostanie użyta do połączenia z bazą danych"
   ]
  },
  {
   "cell_type": "code",
   "execution_count": 26,
   "metadata": {},
   "outputs": [],
   "source": [
    "url = 'localhost'\n",
    "engine = create_engine(f\"postgresql://{username}:{password}@{url}/{database}\")\n",
    "connection = engine.connect()"
   ]
  },
  {
   "cell_type": "markdown",
   "metadata": {},
   "source": [
    " Tutaj uzupełnij implementację metody `read_sql_table`"
   ]
  },
  {
   "cell_type": "code",
   "execution_count": 27,
   "metadata": {},
   "outputs": [],
   "source": [
    "def read_sql_table(table_name):\n",
    "    pass\n",
    "    df = pd.read_sql_table(table_name,  con= connection)\n",
    "    return df"
   ]
  },
  {
   "cell_type": "markdown",
   "metadata": {},
   "source": [
    " Tutaj zaczytaj zapisaną wcześniej ramkę danych `flight_df` do zmniennej o takiej samej nazwie"
   ]
  },
  {
   "cell_type": "code",
   "execution_count": 28,
   "metadata": {},
   "outputs": [
    {
     "name": "stdout",
     "output_type": "stream",
     "text": [
      "<class 'pandas.core.frame.DataFrame'>\n",
      "RangeIndex: 1026767 entries, 0 to 1026766\n",
      "Data columns (total 32 columns):\n",
      " #   Column                Non-Null Count    Dtype  \n",
      "---  ------                --------------    -----  \n",
      " 0   month                 1026767 non-null  int64  \n",
      " 1   day_of_month          1026767 non-null  int64  \n",
      " 2   day_of_week           1026767 non-null  int64  \n",
      " 3   op_unique_carrier     1026767 non-null  object \n",
      " 4   tail_num              1026767 non-null  object \n",
      " 5   op_carrier_fl_num     1026767 non-null  int64  \n",
      " 6   origin_airport_id     1026767 non-null  int64  \n",
      " 7   dest_airport_id       1026767 non-null  int64  \n",
      " 8   crs_dep_time          1026767 non-null  int64  \n",
      " 9   dep_time              1026767 non-null  float64\n",
      " 10  dep_delay             1026767 non-null  float64\n",
      " 11  dep_time_blk          1026767 non-null  object \n",
      " 12  crs_arr_time          1026767 non-null  int64  \n",
      " 13  arr_time              1026574 non-null  float64\n",
      " 14  arr_delay_new         1024912 non-null  float64\n",
      " 15  arr_time_blk          1026767 non-null  object \n",
      " 16  cancelled             1026767 non-null  int64  \n",
      " 17  crs_elapsed_time      1026767 non-null  int64  \n",
      " 18  actual_elapsed_time   1024912 non-null  float64\n",
      " 19  distance              1026767 non-null  int64  \n",
      " 20  distance_group        1026767 non-null  int64  \n",
      " 21  year                  1026767 non-null  int64  \n",
      " 22  carrier_delay         211549 non-null   float64\n",
      " 23  weather_delay         211549 non-null   float64\n",
      " 24  nas_delay             211549 non-null   float64\n",
      " 25  security_delay        211549 non-null   float64\n",
      " 26  late_aircraft_delay   211549 non-null   float64\n",
      " 27  is_delayed            1026767 non-null  bool   \n",
      " 28  is_weekend            1026767 non-null  bool   \n",
      " 29  distance_agg          1026767 non-null  object \n",
      " 30  manufacture_year      1014922 non-null  float64\n",
      " 31  manufacture_year_agg  1014922 non-null  object \n",
      "dtypes: bool(2), float64(11), int64(13), object(6)\n",
      "memory usage: 237.0+ MB\n"
     ]
    }
   ],
   "source": [
    "os.chdir('../data/processed')\n",
    "flight_04_03_df = pd.read_csv('flight_df_04_02.csv')\n",
    "os.chdir('../../notebooks')\n",
    "flight_04_03_df.info()"
   ]
  },
  {
   "cell_type": "markdown",
   "metadata": {},
   "source": [
    " # Wzbogacenie o `airport_list`\n",
    " Wczytaj do obszaru roboczego tabelę `airport_list` używając procedury `read_sql_table`. Wykonaj poniższe ćwiczenia:  \n",
    " 1. Sprawdź, czy klucz `origin_airport_id` jest unikalny, tj. nie ma dwóch takich samych wartości w kolumnie `origin_airport_id`.  \n",
    " 1. Jeżeli duplikaty występują, usuń je w najdogodniejszy dla Ciebie sposób.  \n",
    " 1. Jeśli duplikaty nie występują, złącz ramki `airport_list_df` wraz z aktualną `flight_df`, używając kolumny `origin_airport_id` oraz złączenia typu `LEFT JOIN`. Z ramki `airport_list_df` interesuje nas dodanie kolumny `origin_city_name`.  \n",
    " 1. Dodatkowo dokonaj jeszcze raz złączenia ramki `flight_df` z `airport_list_df`, tym razem jednak złącz kolumnę `destination_airport_id` wraz z `origin_airport_id`. Podobnie jak wcześniej, interesuje nas kolumna `origin_city_name`, jedank ona powinna zostać wyświetlona jako `destination_city_name`"
   ]
  },
  {
   "cell_type": "markdown",
   "metadata": {},
   "source": [
    " Tutaj wczytaj ramkę `airport_list_df`"
   ]
  },
  {
   "cell_type": "code",
   "execution_count": 6,
   "metadata": {},
   "outputs": [
    {
     "name": "stdout",
     "output_type": "stream",
     "text": [
      "<class 'pandas.core.frame.DataFrame'>\n",
      "RangeIndex: 97 entries, 0 to 96\n",
      "Data columns (total 4 columns):\n",
      " #   Column                Non-Null Count  Dtype \n",
      "---  ------                --------------  ----- \n",
      " 0   origin_airport_id     97 non-null     int64 \n",
      " 1   display_airport_name  97 non-null     object\n",
      " 2   origin_city_name      97 non-null     object\n",
      " 3   name                  97 non-null     object\n",
      "dtypes: int64(1), object(3)\n",
      "memory usage: 3.2+ KB\n"
     ]
    }
   ],
   "source": [
    "airport_list_df = pd.read_sql('airport_list', connection)\n",
    "airport_list_df.info()\n"
   ]
  },
  {
   "cell_type": "code",
   "execution_count": 7,
   "metadata": {},
   "outputs": [
    {
     "data": {
      "text/plain": [
       "97"
      ]
     },
     "execution_count": 7,
     "metadata": {},
     "output_type": "execute_result"
    }
   ],
   "source": [
    "len(airport_list_df['origin_airport_id'].unique())"
   ]
  },
  {
   "cell_type": "markdown",
   "metadata": {},
   "source": [
    "***'origin_airport_id' jest kluczem unikalnym bo na 97 wierszy w tabeli jest 97 kluczy unikalnych w airport_list_df***"
   ]
  },
  {
   "cell_type": "markdown",
   "metadata": {},
   "source": [
    " Tutaj sprawdż, czy występują duplikaty dla kolumny `origin_airport_id`"
   ]
  },
  {
   "cell_type": "code",
   "execution_count": 8,
   "metadata": {},
   "outputs": [
    {
     "data": {
      "text/plain": [
       "False    97\n",
       "dtype: int64"
      ]
     },
     "execution_count": 8,
     "metadata": {},
     "output_type": "execute_result"
    }
   ],
   "source": [
    "airport_list_df.duplicated().value_counts()"
   ]
  },
  {
   "cell_type": "markdown",
   "metadata": {},
   "source": [
    " Tutaj usuń duplikaty – jeśli występują"
   ]
  },
  {
   "cell_type": "code",
   "execution_count": 9,
   "metadata": {},
   "outputs": [],
   "source": [
    "# nie występują"
   ]
  },
  {
   "cell_type": "markdown",
   "metadata": {},
   "source": [
    " Tutaj dokonaj złączenia ramki `flight_df` oraz `airport_list_df` używając `origin_airport_id` \n",
    " Jeśli duplikaty nie występują, złącz ramki airport_list_df wraz z aktualną flight_df, używając kolumny origin_airport_id oraz złączenia typu LEFT JOIN. Z ramki airport_list_df interesuje nas dodanie kolumny origin_city_name."
   ]
  },
  {
   "cell_type": "code",
   "execution_count": 10,
   "metadata": {},
   "outputs": [
    {
     "name": "stdout",
     "output_type": "stream",
     "text": [
      "<class 'pandas.core.frame.DataFrame'>\n",
      "Int64Index: 1026767 entries, 0 to 1026766\n",
      "Data columns (total 33 columns):\n",
      " #   Column                Non-Null Count    Dtype  \n",
      "---  ------                --------------    -----  \n",
      " 0   month                 1026767 non-null  int64  \n",
      " 1   day_of_month          1026767 non-null  int64  \n",
      " 2   day_of_week           1026767 non-null  int64  \n",
      " 3   op_unique_carrier     1026767 non-null  object \n",
      " 4   tail_num              1026767 non-null  object \n",
      " 5   op_carrier_fl_num     1026767 non-null  int64  \n",
      " 6   origin_airport_id     1026767 non-null  int64  \n",
      " 7   dest_airport_id       1026767 non-null  int64  \n",
      " 8   crs_dep_time          1026767 non-null  int64  \n",
      " 9   dep_time              1026767 non-null  float64\n",
      " 10  dep_delay             1026767 non-null  float64\n",
      " 11  dep_time_blk          1026767 non-null  object \n",
      " 12  crs_arr_time          1026767 non-null  int64  \n",
      " 13  arr_time              1026574 non-null  float64\n",
      " 14  arr_delay_new         1024912 non-null  float64\n",
      " 15  arr_time_blk          1026767 non-null  object \n",
      " 16  cancelled             1026767 non-null  int64  \n",
      " 17  crs_elapsed_time      1026767 non-null  int64  \n",
      " 18  actual_elapsed_time   1024912 non-null  float64\n",
      " 19  distance              1026767 non-null  int64  \n",
      " 20  distance_group        1026767 non-null  int64  \n",
      " 21  year                  1026767 non-null  int64  \n",
      " 22  carrier_delay         211549 non-null   float64\n",
      " 23  weather_delay         211549 non-null   float64\n",
      " 24  nas_delay             211549 non-null   float64\n",
      " 25  security_delay        211549 non-null   float64\n",
      " 26  late_aircraft_delay   211549 non-null   float64\n",
      " 27  is_delayed            1026767 non-null  bool   \n",
      " 28  is_weekend            1026767 non-null  bool   \n",
      " 29  distance_agg          1026767 non-null  object \n",
      " 30  manufacture_year      1014922 non-null  float64\n",
      " 31  manufacture_year_agg  1014922 non-null  object \n",
      " 32  origin_city_name      1026767 non-null  object \n",
      "dtypes: bool(2), float64(11), int64(13), object(7)\n",
      "memory usage: 252.6+ MB\n"
     ]
    }
   ],
   "source": [
    "flight_df_merged = pd.merge(flight_04_03_df, airport_list_df[['origin_airport_id','origin_city_name']],   how = 'left' ,\\\n",
    "                            on = 'origin_airport_id')\n",
    "flight_df_merged.info()\n"
   ]
  },
  {
   "cell_type": "markdown",
   "metadata": {},
   "source": [
    " Tutaj dokonaj złączenia ramki `flight_df` oraz `airport_list_df` używając `destination_airport_id`"
   ]
  },
  {
   "cell_type": "markdown",
   "metadata": {},
   "source": [
    "# sprawdzic mnazwy kolumn"
   ]
  },
  {
   "cell_type": "code",
   "execution_count": 11,
   "metadata": {},
   "outputs": [
    {
     "data": {
      "text/html": [
       "<div>\n",
       "<style scoped>\n",
       "    .dataframe tbody tr th:only-of-type {\n",
       "        vertical-align: middle;\n",
       "    }\n",
       "\n",
       "    .dataframe tbody tr th {\n",
       "        vertical-align: top;\n",
       "    }\n",
       "\n",
       "    .dataframe thead th {\n",
       "        text-align: right;\n",
       "    }\n",
       "</style>\n",
       "<table border=\"1\" class=\"dataframe\">\n",
       "  <thead>\n",
       "    <tr style=\"text-align: right;\">\n",
       "      <th></th>\n",
       "      <th>month</th>\n",
       "      <th>day_of_month</th>\n",
       "      <th>day_of_week</th>\n",
       "      <th>op_unique_carrier</th>\n",
       "      <th>tail_num</th>\n",
       "      <th>op_carrier_fl_num</th>\n",
       "      <th>origin_airport_id</th>\n",
       "      <th>dest_airport_id</th>\n",
       "      <th>crs_dep_time</th>\n",
       "      <th>dep_time</th>\n",
       "      <th>...</th>\n",
       "      <th>weather_delay</th>\n",
       "      <th>nas_delay</th>\n",
       "      <th>security_delay</th>\n",
       "      <th>late_aircraft_delay</th>\n",
       "      <th>is_delayed</th>\n",
       "      <th>is_weekend</th>\n",
       "      <th>distance_agg</th>\n",
       "      <th>manufacture_year</th>\n",
       "      <th>manufacture_year_agg</th>\n",
       "      <th>origin_city_name</th>\n",
       "    </tr>\n",
       "  </thead>\n",
       "  <tbody>\n",
       "    <tr>\n",
       "      <th>0</th>\n",
       "      <td>1</td>\n",
       "      <td>20</td>\n",
       "      <td>7</td>\n",
       "      <td>WN</td>\n",
       "      <td>N204WN</td>\n",
       "      <td>682</td>\n",
       "      <td>10397</td>\n",
       "      <td>11292</td>\n",
       "      <td>605</td>\n",
       "      <td>602.0</td>\n",
       "      <td>...</td>\n",
       "      <td>NaN</td>\n",
       "      <td>NaN</td>\n",
       "      <td>NaN</td>\n",
       "      <td>NaN</td>\n",
       "      <td>False</td>\n",
       "      <td>True</td>\n",
       "      <td>(1100, 1200]</td>\n",
       "      <td>2005.0</td>\n",
       "      <td>(2002, 2005]</td>\n",
       "      <td>Atlanta, GA</td>\n",
       "    </tr>\n",
       "    <tr>\n",
       "      <th>1</th>\n",
       "      <td>1</td>\n",
       "      <td>20</td>\n",
       "      <td>7</td>\n",
       "      <td>WN</td>\n",
       "      <td>N8682B</td>\n",
       "      <td>2622</td>\n",
       "      <td>10397</td>\n",
       "      <td>11292</td>\n",
       "      <td>2120</td>\n",
       "      <td>2114.0</td>\n",
       "      <td>...</td>\n",
       "      <td>NaN</td>\n",
       "      <td>NaN</td>\n",
       "      <td>NaN</td>\n",
       "      <td>NaN</td>\n",
       "      <td>False</td>\n",
       "      <td>True</td>\n",
       "      <td>(1100, 1200]</td>\n",
       "      <td>2016.0</td>\n",
       "      <td>(2014, 2017]</td>\n",
       "      <td>Atlanta, GA</td>\n",
       "    </tr>\n",
       "    <tr>\n",
       "      <th>2</th>\n",
       "      <td>1</td>\n",
       "      <td>20</td>\n",
       "      <td>7</td>\n",
       "      <td>WN</td>\n",
       "      <td>N717SA</td>\n",
       "      <td>2939</td>\n",
       "      <td>10397</td>\n",
       "      <td>11292</td>\n",
       "      <td>1800</td>\n",
       "      <td>1807.0</td>\n",
       "      <td>...</td>\n",
       "      <td>0.0</td>\n",
       "      <td>10.0</td>\n",
       "      <td>0.0</td>\n",
       "      <td>3.0</td>\n",
       "      <td>True</td>\n",
       "      <td>True</td>\n",
       "      <td>(1100, 1200]</td>\n",
       "      <td>1998.0</td>\n",
       "      <td>(1996, 1999]</td>\n",
       "      <td>Atlanta, GA</td>\n",
       "    </tr>\n",
       "    <tr>\n",
       "      <th>3</th>\n",
       "      <td>1</td>\n",
       "      <td>20</td>\n",
       "      <td>7</td>\n",
       "      <td>WN</td>\n",
       "      <td>N709SW</td>\n",
       "      <td>3848</td>\n",
       "      <td>10397</td>\n",
       "      <td>11292</td>\n",
       "      <td>1355</td>\n",
       "      <td>1354.0</td>\n",
       "      <td>...</td>\n",
       "      <td>NaN</td>\n",
       "      <td>NaN</td>\n",
       "      <td>NaN</td>\n",
       "      <td>NaN</td>\n",
       "      <td>False</td>\n",
       "      <td>True</td>\n",
       "      <td>(1100, 1200]</td>\n",
       "      <td>1998.0</td>\n",
       "      <td>(1996, 1999]</td>\n",
       "      <td>Atlanta, GA</td>\n",
       "    </tr>\n",
       "    <tr>\n",
       "      <th>4</th>\n",
       "      <td>1</td>\n",
       "      <td>20</td>\n",
       "      <td>7</td>\n",
       "      <td>WN</td>\n",
       "      <td>N7864B</td>\n",
       "      <td>1352</td>\n",
       "      <td>10397</td>\n",
       "      <td>11697</td>\n",
       "      <td>1125</td>\n",
       "      <td>1125.0</td>\n",
       "      <td>...</td>\n",
       "      <td>NaN</td>\n",
       "      <td>NaN</td>\n",
       "      <td>NaN</td>\n",
       "      <td>NaN</td>\n",
       "      <td>False</td>\n",
       "      <td>True</td>\n",
       "      <td>(500, 600]</td>\n",
       "      <td>2001.0</td>\n",
       "      <td>(1999, 2002]</td>\n",
       "      <td>Atlanta, GA</td>\n",
       "    </tr>\n",
       "  </tbody>\n",
       "</table>\n",
       "<p>5 rows × 33 columns</p>\n",
       "</div>"
      ],
      "text/plain": [
       "   month  day_of_month  day_of_week op_unique_carrier tail_num  \\\n",
       "0      1            20            7                WN   N204WN   \n",
       "1      1            20            7                WN   N8682B   \n",
       "2      1            20            7                WN   N717SA   \n",
       "3      1            20            7                WN   N709SW   \n",
       "4      1            20            7                WN   N7864B   \n",
       "\n",
       "   op_carrier_fl_num  origin_airport_id  dest_airport_id  crs_dep_time  \\\n",
       "0                682              10397            11292           605   \n",
       "1               2622              10397            11292          2120   \n",
       "2               2939              10397            11292          1800   \n",
       "3               3848              10397            11292          1355   \n",
       "4               1352              10397            11697          1125   \n",
       "\n",
       "   dep_time  ...  weather_delay nas_delay  security_delay  \\\n",
       "0     602.0  ...            NaN       NaN             NaN   \n",
       "1    2114.0  ...            NaN       NaN             NaN   \n",
       "2    1807.0  ...            0.0      10.0             0.0   \n",
       "3    1354.0  ...            NaN       NaN             NaN   \n",
       "4    1125.0  ...            NaN       NaN             NaN   \n",
       "\n",
       "   late_aircraft_delay  is_delayed is_weekend  distance_agg  manufacture_year  \\\n",
       "0                  NaN       False       True  (1100, 1200]            2005.0   \n",
       "1                  NaN       False       True  (1100, 1200]            2016.0   \n",
       "2                  3.0        True       True  (1100, 1200]            1998.0   \n",
       "3                  NaN       False       True  (1100, 1200]            1998.0   \n",
       "4                  NaN       False       True    (500, 600]            2001.0   \n",
       "\n",
       "   manufacture_year_agg  origin_city_name  \n",
       "0          (2002, 2005]       Atlanta, GA  \n",
       "1          (2014, 2017]       Atlanta, GA  \n",
       "2          (1996, 1999]       Atlanta, GA  \n",
       "3          (1996, 1999]       Atlanta, GA  \n",
       "4          (1999, 2002]       Atlanta, GA  \n",
       "\n",
       "[5 rows x 33 columns]"
      ]
     },
     "execution_count": 11,
     "metadata": {},
     "output_type": "execute_result"
    }
   ],
   "source": [
    "# airport_list_df.head()\n",
    "flight_df_merged.head()"
   ]
  },
  {
   "cell_type": "code",
   "execution_count": 12,
   "metadata": {},
   "outputs": [
    {
     "name": "stdout",
     "output_type": "stream",
     "text": [
      "<class 'pandas.core.frame.DataFrame'>\n",
      "Int64Index: 1026767 entries, 0 to 1026766\n",
      "Data columns (total 33 columns):\n",
      " #   Column                Non-Null Count    Dtype  \n",
      "---  ------                --------------    -----  \n",
      " 0   month                 1026767 non-null  int64  \n",
      " 1   day_of_month          1026767 non-null  int64  \n",
      " 2   day_of_week           1026767 non-null  int64  \n",
      " 3   op_unique_carrier     1026767 non-null  object \n",
      " 4   tail_num              1026767 non-null  object \n",
      " 5   op_carrier_fl_num     1026767 non-null  int64  \n",
      " 6   origin_airport_id     1026767 non-null  int64  \n",
      " 7   dest_airport_id       1026767 non-null  int64  \n",
      " 8   crs_dep_time          1026767 non-null  int64  \n",
      " 9   dep_time              1026767 non-null  float64\n",
      " 10  dep_delay             1026767 non-null  float64\n",
      " 11  dep_time_blk          1026767 non-null  object \n",
      " 12  crs_arr_time          1026767 non-null  int64  \n",
      " 13  arr_time              1026574 non-null  float64\n",
      " 14  arr_delay_new         1024912 non-null  float64\n",
      " 15  arr_time_blk          1026767 non-null  object \n",
      " 16  cancelled             1026767 non-null  int64  \n",
      " 17  crs_elapsed_time      1026767 non-null  int64  \n",
      " 18  actual_elapsed_time   1024912 non-null  float64\n",
      " 19  distance              1026767 non-null  int64  \n",
      " 20  distance_group        1026767 non-null  int64  \n",
      " 21  year                  1026767 non-null  int64  \n",
      " 22  carrier_delay         211549 non-null   float64\n",
      " 23  weather_delay         211549 non-null   float64\n",
      " 24  nas_delay             211549 non-null   float64\n",
      " 25  security_delay        211549 non-null   float64\n",
      " 26  late_aircraft_delay   211549 non-null   float64\n",
      " 27  is_delayed            1026767 non-null  bool   \n",
      " 28  is_weekend            1026767 non-null  bool   \n",
      " 29  distance_agg          1026767 non-null  object \n",
      " 30  manufacture_year      1014922 non-null  float64\n",
      " 31  manufacture_year_agg  1014922 non-null  object \n",
      " 32  origin_city_name      1026767 non-null  object \n",
      "dtypes: bool(2), float64(11), int64(13), object(7)\n",
      "memory usage: 252.6+ MB\n"
     ]
    }
   ],
   "source": [
    "flight_df_merged.info()"
   ]
  },
  {
   "cell_type": "code",
   "execution_count": 13,
   "metadata": {},
   "outputs": [],
   "source": [
    "flight_df_merged_2 = pd.merge(flight_df_merged, airport_list_df[['origin_airport_id','origin_city_name']],\\\n",
    "                              how = 'left' , left_on = 'dest_airport_id',\\\n",
    "                              right_on = 'origin_airport_id')\n",
    "\n",
    "flight_df_merged_2.rename(columns = {'origin_airport_id_x':'origin_airport_id',\\\n",
    "                                   'origin_city_name_x':'origin_city_name',\\\n",
    "                                   'origin_city_name_y':'dest_city_name'}, inplace = True)\n",
    "flight_df_merged_2.drop(columns = 'origin_airport_id_y', inplace =True)"
   ]
  },
  {
   "cell_type": "code",
   "execution_count": 14,
   "metadata": {},
   "outputs": [
    {
     "data": {
      "text/html": [
       "<div>\n",
       "<style scoped>\n",
       "    .dataframe tbody tr th:only-of-type {\n",
       "        vertical-align: middle;\n",
       "    }\n",
       "\n",
       "    .dataframe tbody tr th {\n",
       "        vertical-align: top;\n",
       "    }\n",
       "\n",
       "    .dataframe thead th {\n",
       "        text-align: right;\n",
       "    }\n",
       "</style>\n",
       "<table border=\"1\" class=\"dataframe\">\n",
       "  <thead>\n",
       "    <tr style=\"text-align: right;\">\n",
       "      <th></th>\n",
       "      <th>month</th>\n",
       "      <th>day_of_month</th>\n",
       "      <th>day_of_week</th>\n",
       "      <th>op_unique_carrier</th>\n",
       "      <th>tail_num</th>\n",
       "      <th>op_carrier_fl_num</th>\n",
       "      <th>origin_airport_id</th>\n",
       "      <th>dest_airport_id</th>\n",
       "      <th>crs_dep_time</th>\n",
       "      <th>dep_time</th>\n",
       "      <th>...</th>\n",
       "      <th>nas_delay</th>\n",
       "      <th>security_delay</th>\n",
       "      <th>late_aircraft_delay</th>\n",
       "      <th>is_delayed</th>\n",
       "      <th>is_weekend</th>\n",
       "      <th>distance_agg</th>\n",
       "      <th>manufacture_year</th>\n",
       "      <th>manufacture_year_agg</th>\n",
       "      <th>origin_city_name</th>\n",
       "      <th>dest_city_name</th>\n",
       "    </tr>\n",
       "  </thead>\n",
       "  <tbody>\n",
       "    <tr>\n",
       "      <th>0</th>\n",
       "      <td>1</td>\n",
       "      <td>20</td>\n",
       "      <td>7</td>\n",
       "      <td>WN</td>\n",
       "      <td>N204WN</td>\n",
       "      <td>682</td>\n",
       "      <td>10397</td>\n",
       "      <td>11292</td>\n",
       "      <td>605</td>\n",
       "      <td>602.0</td>\n",
       "      <td>...</td>\n",
       "      <td>NaN</td>\n",
       "      <td>NaN</td>\n",
       "      <td>NaN</td>\n",
       "      <td>False</td>\n",
       "      <td>True</td>\n",
       "      <td>(1100, 1200]</td>\n",
       "      <td>2005.0</td>\n",
       "      <td>(2002, 2005]</td>\n",
       "      <td>Atlanta, GA</td>\n",
       "      <td>Denver, CO</td>\n",
       "    </tr>\n",
       "    <tr>\n",
       "      <th>1</th>\n",
       "      <td>1</td>\n",
       "      <td>20</td>\n",
       "      <td>7</td>\n",
       "      <td>WN</td>\n",
       "      <td>N8682B</td>\n",
       "      <td>2622</td>\n",
       "      <td>10397</td>\n",
       "      <td>11292</td>\n",
       "      <td>2120</td>\n",
       "      <td>2114.0</td>\n",
       "      <td>...</td>\n",
       "      <td>NaN</td>\n",
       "      <td>NaN</td>\n",
       "      <td>NaN</td>\n",
       "      <td>False</td>\n",
       "      <td>True</td>\n",
       "      <td>(1100, 1200]</td>\n",
       "      <td>2016.0</td>\n",
       "      <td>(2014, 2017]</td>\n",
       "      <td>Atlanta, GA</td>\n",
       "      <td>Denver, CO</td>\n",
       "    </tr>\n",
       "    <tr>\n",
       "      <th>2</th>\n",
       "      <td>1</td>\n",
       "      <td>20</td>\n",
       "      <td>7</td>\n",
       "      <td>WN</td>\n",
       "      <td>N717SA</td>\n",
       "      <td>2939</td>\n",
       "      <td>10397</td>\n",
       "      <td>11292</td>\n",
       "      <td>1800</td>\n",
       "      <td>1807.0</td>\n",
       "      <td>...</td>\n",
       "      <td>10.0</td>\n",
       "      <td>0.0</td>\n",
       "      <td>3.0</td>\n",
       "      <td>True</td>\n",
       "      <td>True</td>\n",
       "      <td>(1100, 1200]</td>\n",
       "      <td>1998.0</td>\n",
       "      <td>(1996, 1999]</td>\n",
       "      <td>Atlanta, GA</td>\n",
       "      <td>Denver, CO</td>\n",
       "    </tr>\n",
       "    <tr>\n",
       "      <th>3</th>\n",
       "      <td>1</td>\n",
       "      <td>20</td>\n",
       "      <td>7</td>\n",
       "      <td>WN</td>\n",
       "      <td>N709SW</td>\n",
       "      <td>3848</td>\n",
       "      <td>10397</td>\n",
       "      <td>11292</td>\n",
       "      <td>1355</td>\n",
       "      <td>1354.0</td>\n",
       "      <td>...</td>\n",
       "      <td>NaN</td>\n",
       "      <td>NaN</td>\n",
       "      <td>NaN</td>\n",
       "      <td>False</td>\n",
       "      <td>True</td>\n",
       "      <td>(1100, 1200]</td>\n",
       "      <td>1998.0</td>\n",
       "      <td>(1996, 1999]</td>\n",
       "      <td>Atlanta, GA</td>\n",
       "      <td>Denver, CO</td>\n",
       "    </tr>\n",
       "    <tr>\n",
       "      <th>4</th>\n",
       "      <td>1</td>\n",
       "      <td>20</td>\n",
       "      <td>7</td>\n",
       "      <td>WN</td>\n",
       "      <td>N7864B</td>\n",
       "      <td>1352</td>\n",
       "      <td>10397</td>\n",
       "      <td>11697</td>\n",
       "      <td>1125</td>\n",
       "      <td>1125.0</td>\n",
       "      <td>...</td>\n",
       "      <td>NaN</td>\n",
       "      <td>NaN</td>\n",
       "      <td>NaN</td>\n",
       "      <td>False</td>\n",
       "      <td>True</td>\n",
       "      <td>(500, 600]</td>\n",
       "      <td>2001.0</td>\n",
       "      <td>(1999, 2002]</td>\n",
       "      <td>Atlanta, GA</td>\n",
       "      <td>Fort Lauderdale, FL</td>\n",
       "    </tr>\n",
       "  </tbody>\n",
       "</table>\n",
       "<p>5 rows × 34 columns</p>\n",
       "</div>"
      ],
      "text/plain": [
       "   month  day_of_month  day_of_week op_unique_carrier tail_num  \\\n",
       "0      1            20            7                WN   N204WN   \n",
       "1      1            20            7                WN   N8682B   \n",
       "2      1            20            7                WN   N717SA   \n",
       "3      1            20            7                WN   N709SW   \n",
       "4      1            20            7                WN   N7864B   \n",
       "\n",
       "   op_carrier_fl_num  origin_airport_id  dest_airport_id  crs_dep_time  \\\n",
       "0                682              10397            11292           605   \n",
       "1               2622              10397            11292          2120   \n",
       "2               2939              10397            11292          1800   \n",
       "3               3848              10397            11292          1355   \n",
       "4               1352              10397            11697          1125   \n",
       "\n",
       "   dep_time  ...  nas_delay security_delay  late_aircraft_delay  is_delayed  \\\n",
       "0     602.0  ...        NaN            NaN                  NaN       False   \n",
       "1    2114.0  ...        NaN            NaN                  NaN       False   \n",
       "2    1807.0  ...       10.0            0.0                  3.0        True   \n",
       "3    1354.0  ...        NaN            NaN                  NaN       False   \n",
       "4    1125.0  ...        NaN            NaN                  NaN       False   \n",
       "\n",
       "   is_weekend  distance_agg  manufacture_year  manufacture_year_agg  \\\n",
       "0        True  (1100, 1200]            2005.0          (2002, 2005]   \n",
       "1        True  (1100, 1200]            2016.0          (2014, 2017]   \n",
       "2        True  (1100, 1200]            1998.0          (1996, 1999]   \n",
       "3        True  (1100, 1200]            1998.0          (1996, 1999]   \n",
       "4        True    (500, 600]            2001.0          (1999, 2002]   \n",
       "\n",
       "   origin_city_name       dest_city_name  \n",
       "0       Atlanta, GA           Denver, CO  \n",
       "1       Atlanta, GA           Denver, CO  \n",
       "2       Atlanta, GA           Denver, CO  \n",
       "3       Atlanta, GA           Denver, CO  \n",
       "4       Atlanta, GA  Fort Lauderdale, FL  \n",
       "\n",
       "[5 rows x 34 columns]"
      ]
     },
     "execution_count": 14,
     "metadata": {},
     "output_type": "execute_result"
    }
   ],
   "source": [
    "flight_df_merged_2.head()"
   ]
  },
  {
   "cell_type": "markdown",
   "metadata": {},
   "source": [
    "***pozostawiam to jako ćwiczenie bo fajna metoda na mapowanie wartości jednej kolumny na drugą DODAJE KOLUMNE DEST_CITY_NAME NA PODSTAWIE DEST_AIRPORT_ID przez mapowanie***"
   ]
  },
  {
   "cell_type": "code",
   "execution_count": 15,
   "metadata": {},
   "outputs": [],
   "source": [
    "# # flight_df\n",
    "# dest_city_name_dict = flight_df.set_index('origin_airport_id_x')['origin_city_name'].to_dict()\n",
    "# dest_city_name_dict\n",
    "# flight_df['dest_city_name'] = flight_df['dest_airport_id'].map(dest_city_name_dict)\n",
    "# flight_df = flight_df.rename(columns = {'Unnamed: 0':'count'})\n",
    "# flight_df"
   ]
  },
  {
   "cell_type": "markdown",
   "metadata": {},
   "source": [
    "### Sprawdzenie\n",
    "Uruchom kod poniżej, aby sprawdzić, czy ta część została poprawnie wykonana"
   ]
  },
  {
   "cell_type": "code",
   "execution_count": 16,
   "metadata": {},
   "outputs": [
    {
     "ename": "AssertionError",
     "evalue": "Ups, zmieniła się liczba wierszy...",
     "output_type": "error",
     "traceback": [
      "\u001b[1;31m---------------------------------------------------------------------------\u001b[0m",
      "\u001b[1;31mAssertionError\u001b[0m                            Traceback (most recent call last)",
      "Cell \u001b[1;32mIn[16], line 5\u001b[0m\n\u001b[0;32m      2\u001b[0m \u001b[38;5;28;01massert\u001b[39;00m \u001b[38;5;124m'\u001b[39m\u001b[38;5;124mdest_city_name\u001b[39m\u001b[38;5;124m'\u001b[39m \u001b[38;5;129;01min\u001b[39;00m flight_df_merged_2\u001b[38;5;241m.\u001b[39mcolumns, \u001b[38;5;124m'\u001b[39m\u001b[38;5;124mBrak kolumny `dest_city_name` w ramce flight_df\u001b[39m\u001b[38;5;124m'\u001b[39m\n\u001b[0;32m      4\u001b[0m flight_df_expected_rows_amount \u001b[38;5;241m=\u001b[39m \u001b[38;5;241m1057391\u001b[39m\n\u001b[1;32m----> 5\u001b[0m \u001b[38;5;28;01massert\u001b[39;00m flight_df_merged\u001b[38;5;241m.\u001b[39mshape[\u001b[38;5;241m0\u001b[39m] \u001b[38;5;241m==\u001b[39m flight_df_expected_rows_amount, \u001b[38;5;124m'\u001b[39m\u001b[38;5;124mUps, zmieniła się liczba wierszy...\u001b[39m\u001b[38;5;124m'\u001b[39m\n",
      "\u001b[1;31mAssertionError\u001b[0m: Ups, zmieniła się liczba wierszy..."
     ]
    }
   ],
   "source": [
    "assert 'origin_city_name' in flight_df_merged_2.columns, 'Brak kolumny `origin_city_name` w ramce flight_df'\n",
    "assert 'dest_city_name' in flight_df_merged_2.columns, 'Brak kolumny `dest_city_name` w ramce flight_df'\n",
    "\n",
    "flight_df_expected_rows_amount = 1057391\n",
    "assert flight_df_merged.shape[0] == flight_df_expected_rows_amount, 'Ups, zmieniła się liczba wierszy...'"
   ]
  },
  {
   "cell_type": "markdown",
   "metadata": {},
   "source": [
    " ## Analiza według lotnisk oraz tras\n",
    " Wykonaj poniższe polecenia:  \n",
    " 1. Wyznacz lotniska, z których **odlatywało** najwięcej samolotów. Wynik zapisz do ramki `top_airports_origin_df`.\n",
    " 1. Wyznacz lotnika, na których najwięcej lotów **się kończyło**. Wynik zapisz do ramki `top_airports_destination_df`.  \n",
    " 1. Wyznacz najczęściej uczęszczaną trasę, wynik zapisz do ramki `top_route_df`.  \n",
    " 1. Przy założeniu, że reprezentatywna liczba lotów na trasie wynosi ponad 500, wyznacz dodatkowo top 10:  \n",
    "     - tras z **najmniejszym odsetkiem opóźnień**, wynik zapisz do ramki `least_route_delays_df`.  \n",
    "     - tras z **największym odsetkiem opóźnień**, wynik zapisz do ramki `top_route_delays_df`."
   ]
  },
  {
   "cell_type": "markdown",
   "metadata": {},
   "source": [
    " Tutaj wyznacz ramkę `top_airports_origin_df`"
   ]
  },
  {
   "cell_type": "code",
   "execution_count": 17,
   "metadata": {},
   "outputs": [
    {
     "data": {
      "text/html": [
       "<div>\n",
       "<style scoped>\n",
       "    .dataframe tbody tr th:only-of-type {\n",
       "        vertical-align: middle;\n",
       "    }\n",
       "\n",
       "    .dataframe tbody tr th {\n",
       "        vertical-align: top;\n",
       "    }\n",
       "\n",
       "    .dataframe thead th {\n",
       "        text-align: right;\n",
       "    }\n",
       "</style>\n",
       "<table border=\"1\" class=\"dataframe\">\n",
       "  <thead>\n",
       "    <tr style=\"text-align: right;\">\n",
       "      <th></th>\n",
       "      <th>origin_city_name</th>\n",
       "      <th>origin_airport_id</th>\n",
       "    </tr>\n",
       "  </thead>\n",
       "  <tbody>\n",
       "    <tr>\n",
       "      <th>1</th>\n",
       "      <td>Atlanta, GA</td>\n",
       "      <td>123162</td>\n",
       "    </tr>\n",
       "    <tr>\n",
       "      <th>6</th>\n",
       "      <td>Chicago, IL</td>\n",
       "      <td>105437</td>\n",
       "    </tr>\n",
       "    <tr>\n",
       "      <th>19</th>\n",
       "      <td>Los Angeles, CA</td>\n",
       "      <td>75052</td>\n",
       "    </tr>\n",
       "    <tr>\n",
       "      <th>10</th>\n",
       "      <td>Denver, CO</td>\n",
       "      <td>64525</td>\n",
       "    </tr>\n",
       "    <tr>\n",
       "      <th>23</th>\n",
       "      <td>New York, NY</td>\n",
       "      <td>63049</td>\n",
       "    </tr>\n",
       "    <tr>\n",
       "      <th>3</th>\n",
       "      <td>Boston, MA</td>\n",
       "      <td>55989</td>\n",
       "    </tr>\n",
       "    <tr>\n",
       "      <th>34</th>\n",
       "      <td>Seattle, WA</td>\n",
       "      <td>50465</td>\n",
       "    </tr>\n",
       "    <tr>\n",
       "      <th>32</th>\n",
       "      <td>San Francisco, CA</td>\n",
       "      <td>50124</td>\n",
       "    </tr>\n",
       "    <tr>\n",
       "      <th>9</th>\n",
       "      <td>Dallas/Fort Worth, TX</td>\n",
       "      <td>39511</td>\n",
       "    </tr>\n",
       "    <tr>\n",
       "      <th>17</th>\n",
       "      <td>Las Vegas, NV</td>\n",
       "      <td>38456</td>\n",
       "    </tr>\n",
       "  </tbody>\n",
       "</table>\n",
       "</div>"
      ],
      "text/plain": [
       "         origin_city_name  origin_airport_id\n",
       "1             Atlanta, GA             123162\n",
       "6             Chicago, IL             105437\n",
       "19        Los Angeles, CA              75052\n",
       "10             Denver, CO              64525\n",
       "23           New York, NY              63049\n",
       "3              Boston, MA              55989\n",
       "34            Seattle, WA              50465\n",
       "32      San Francisco, CA              50124\n",
       "9   Dallas/Fort Worth, TX              39511\n",
       "17          Las Vegas, NV              38456"
      ]
     },
     "execution_count": 17,
     "metadata": {},
     "output_type": "execute_result"
    }
   ],
   "source": [
    "# Wyznacz lotniska, z których odlatywało najwięcej samolotów. Wynik zapisz do ramki top_airports_origin_df.\n",
    "top_airports_origin_df = flight_df_merged_2.groupby('origin_city_name')['origin_airport_id'].\\\n",
    "                                                agg('count').reset_index().sort_values('origin_airport_id',ascending = False)\n",
    "\n",
    "top_airports_origin_df.head(10)"
   ]
  },
  {
   "cell_type": "markdown",
   "metadata": {},
   "source": [
    " Tutaj wyznacz ramkę `top_airports_destination_df`"
   ]
  },
  {
   "cell_type": "code",
   "execution_count": 18,
   "metadata": {},
   "outputs": [
    {
     "data": {
      "text/html": [
       "<div>\n",
       "<style scoped>\n",
       "    .dataframe tbody tr th:only-of-type {\n",
       "        vertical-align: middle;\n",
       "    }\n",
       "\n",
       "    .dataframe tbody tr th {\n",
       "        vertical-align: top;\n",
       "    }\n",
       "\n",
       "    .dataframe thead th {\n",
       "        text-align: right;\n",
       "    }\n",
       "</style>\n",
       "<table border=\"1\" class=\"dataframe\">\n",
       "  <thead>\n",
       "    <tr style=\"text-align: right;\">\n",
       "      <th></th>\n",
       "      <th>dest_city_name</th>\n",
       "      <th>dest_airport_id</th>\n",
       "    </tr>\n",
       "  </thead>\n",
       "  <tbody>\n",
       "    <tr>\n",
       "      <th>1</th>\n",
       "      <td>Atlanta, GA</td>\n",
       "      <td>122945</td>\n",
       "    </tr>\n",
       "    <tr>\n",
       "      <th>6</th>\n",
       "      <td>Chicago, IL</td>\n",
       "      <td>100333</td>\n",
       "    </tr>\n",
       "    <tr>\n",
       "      <th>19</th>\n",
       "      <td>Los Angeles, CA</td>\n",
       "      <td>75040</td>\n",
       "    </tr>\n",
       "    <tr>\n",
       "      <th>10</th>\n",
       "      <td>Denver, CO</td>\n",
       "      <td>64602</td>\n",
       "    </tr>\n",
       "    <tr>\n",
       "      <th>24</th>\n",
       "      <td>New York, NY</td>\n",
       "      <td>62972</td>\n",
       "    </tr>\n",
       "    <tr>\n",
       "      <th>3</th>\n",
       "      <td>Boston, MA</td>\n",
       "      <td>56057</td>\n",
       "    </tr>\n",
       "    <tr>\n",
       "      <th>36</th>\n",
       "      <td>Seattle, WA</td>\n",
       "      <td>50230</td>\n",
       "    </tr>\n",
       "    <tr>\n",
       "      <th>33</th>\n",
       "      <td>San Francisco, CA</td>\n",
       "      <td>49999</td>\n",
       "    </tr>\n",
       "    <tr>\n",
       "      <th>9</th>\n",
       "      <td>Dallas/Fort Worth, TX</td>\n",
       "      <td>39488</td>\n",
       "    </tr>\n",
       "    <tr>\n",
       "      <th>17</th>\n",
       "      <td>Las Vegas, NV</td>\n",
       "      <td>38494</td>\n",
       "    </tr>\n",
       "  </tbody>\n",
       "</table>\n",
       "</div>"
      ],
      "text/plain": [
       "           dest_city_name  dest_airport_id\n",
       "1             Atlanta, GA           122945\n",
       "6             Chicago, IL           100333\n",
       "19        Los Angeles, CA            75040\n",
       "10             Denver, CO            64602\n",
       "24           New York, NY            62972\n",
       "3              Boston, MA            56057\n",
       "36            Seattle, WA            50230\n",
       "33      San Francisco, CA            49999\n",
       "9   Dallas/Fort Worth, TX            39488\n",
       "17          Las Vegas, NV            38494"
      ]
     },
     "execution_count": 18,
     "metadata": {},
     "output_type": "execute_result"
    }
   ],
   "source": [
    "top_airports_destination_df = flight_df_merged_2.groupby('dest_city_name')['dest_airport_id'].\\\n",
    "                                                agg('count').reset_index().sort_values('dest_airport_id',ascending = False)\n",
    "top_airports_destination_df.head(10)"
   ]
  },
  {
   "cell_type": "markdown",
   "metadata": {},
   "source": [
    "Wyznacz najczęściej uczęszczaną trasę, wynik zapisz do ramki top_route_df.\n",
    "Przy założeniu, że reprezentatywna liczba lotów na trasie wynosi ponad 500, wyznacz dodatkowo top 10:\n",
    "tras z najmniejszym odsetkiem opóźnień, wynik zapisz do ramki least_route_delays_df.\n",
    "tras z największym odsetkiem opóźnień, wynik zapisz do ramki top_route_delays_df."
   ]
  },
  {
   "cell_type": "markdown",
   "metadata": {},
   "source": [
    "# ***NIE MAM POJĘCIA JAK TO ZROBIĆ...PONIŻEJ DWIA PODEJŚCIA ALE NIE MOGE DOJŚC DO TEGO JAK POKAZAĆ NUMER LOTU, MIASTO STARTOWE, MIASTO DOCELOWE,  SUME PRZELOTÓW,  NIE WIEM DLACZEGO MAM KILKA COUNTÓW DLA TEGO SAMEGO NUMERU LOTU NP. LOT1***\n",
    "***"
   ]
  },
  {
   "cell_type": "code",
   "execution_count": 104,
   "metadata": {},
   "outputs": [
    {
     "data": {
      "text/html": [
       "<div>\n",
       "<style scoped>\n",
       "    .dataframe tbody tr th:only-of-type {\n",
       "        vertical-align: middle;\n",
       "    }\n",
       "\n",
       "    .dataframe tbody tr th {\n",
       "        vertical-align: top;\n",
       "    }\n",
       "\n",
       "    .dataframe thead th {\n",
       "        text-align: right;\n",
       "    }\n",
       "</style>\n",
       "<table border=\"1\" class=\"dataframe\">\n",
       "  <thead>\n",
       "    <tr style=\"text-align: right;\">\n",
       "      <th></th>\n",
       "      <th>count_flights</th>\n",
       "      <th>origin_city_name</th>\n",
       "      <th>0</th>\n",
       "    </tr>\n",
       "  </thead>\n",
       "  <tbody>\n",
       "    <tr>\n",
       "      <th>0</th>\n",
       "      <td>573</td>\n",
       "      <td>Denver, CO</td>\n",
       "      <td>690</td>\n",
       "    </tr>\n",
       "    <tr>\n",
       "      <th>1</th>\n",
       "      <td>1027</td>\n",
       "      <td>Boston, MA</td>\n",
       "      <td>642</td>\n",
       "    </tr>\n",
       "    <tr>\n",
       "      <th>2</th>\n",
       "      <td>1153</td>\n",
       "      <td>Atlanta, GA</td>\n",
       "      <td>618</td>\n",
       "    </tr>\n",
       "    <tr>\n",
       "      <th>3</th>\n",
       "      <td>420</td>\n",
       "      <td>Denver, CO</td>\n",
       "      <td>609</td>\n",
       "    </tr>\n",
       "    <tr>\n",
       "      <th>4</th>\n",
       "      <td>2127</td>\n",
       "      <td>Boston, MA</td>\n",
       "      <td>598</td>\n",
       "    </tr>\n",
       "    <tr>\n",
       "      <th>...</th>\n",
       "      <td>...</td>\n",
       "      <td>...</td>\n",
       "      <td>...</td>\n",
       "    </tr>\n",
       "    <tr>\n",
       "      <th>25638</th>\n",
       "      <td>2745</td>\n",
       "      <td>Atlanta, GA</td>\n",
       "      <td>1</td>\n",
       "    </tr>\n",
       "    <tr>\n",
       "      <th>25639</th>\n",
       "      <td>4298</td>\n",
       "      <td>Denver, CO</td>\n",
       "      <td>1</td>\n",
       "    </tr>\n",
       "    <tr>\n",
       "      <th>25640</th>\n",
       "      <td>5171</td>\n",
       "      <td>San Francisco, CA</td>\n",
       "      <td>1</td>\n",
       "    </tr>\n",
       "    <tr>\n",
       "      <th>25641</th>\n",
       "      <td>2747</td>\n",
       "      <td>San Diego, CA</td>\n",
       "      <td>1</td>\n",
       "    </tr>\n",
       "    <tr>\n",
       "      <th>25642</th>\n",
       "      <td>1258</td>\n",
       "      <td>San Diego, CA</td>\n",
       "      <td>1</td>\n",
       "    </tr>\n",
       "  </tbody>\n",
       "</table>\n",
       "<p>25643 rows × 3 columns</p>\n",
       "</div>"
      ],
      "text/plain": [
       "       count_flights   origin_city_name    0\n",
       "0                573         Denver, CO  690\n",
       "1               1027         Boston, MA  642\n",
       "2               1153        Atlanta, GA  618\n",
       "3                420         Denver, CO  609\n",
       "4               2127         Boston, MA  598\n",
       "...              ...                ...  ...\n",
       "25638           2745        Atlanta, GA    1\n",
       "25639           4298         Denver, CO    1\n",
       "25640           5171  San Francisco, CA    1\n",
       "25641           2747      San Diego, CA    1\n",
       "25642           1258      San Diego, CA    1\n",
       "\n",
       "[25643 rows x 3 columns]"
      ]
     },
     "execution_count": 104,
     "metadata": {},
     "output_type": "execute_result"
    }
   ],
   "source": [
    "top_route_df = pd.DataFrame(flight_df_merged_2[['op_carrier_fl_num','origin_city_name']].\\\n",
    "                            value_counts()\\\n",
    "                            .reset_index())\n",
    "top_route_df.rename(columns = {'op_carrier_fl_num':'count_flights'})\n",
    "#                            .sort_values('count_flights',  ascending= False)\\"
   ]
  },
  {
   "cell_type": "code",
   "execution_count": 76,
   "metadata": {},
   "outputs": [
    {
     "data": {
      "text/plain": [
       "op_carrier_fl_num  origin_airport_id\n",
       "1                  11259                238\n",
       "2                  11259                  3\n",
       "                   11292                  5\n",
       "                   12191                 53\n",
       "                   12889                  1\n",
       "                                       ... \n",
       "7664               14771                  1\n",
       "7756               14107                  1\n",
       "7851               11292                  1\n",
       "7880               13303                  1\n",
       "7881               12953                  2\n",
       "Name: dest_city_name, Length: 25688, dtype: int64"
      ]
     },
     "execution_count": 76,
     "metadata": {},
     "output_type": "execute_result"
    }
   ],
   "source": [
    "top_route_df = flight_df_merged_2.groupby(by =['op_carrier_fl_num','origin_airport_id'])['dest_city_name'].count()\n",
    "# rename(columns ={'index':'flight','origin_airport_id':'flight_count'}).sort_values(by = 'flight_count',ascending = False)\n",
    "# top_route_df = top_route_df.loc[top_route_df['flight_count'] >500]\n",
    "top_route_df"
   ]
  },
  {
   "cell_type": "code",
   "execution_count": 37,
   "metadata": {},
   "outputs": [
    {
     "data": {
      "text/html": [
       "<div>\n",
       "<style scoped>\n",
       "    .dataframe tbody tr th:only-of-type {\n",
       "        vertical-align: middle;\n",
       "    }\n",
       "\n",
       "    .dataframe tbody tr th {\n",
       "        vertical-align: top;\n",
       "    }\n",
       "\n",
       "    .dataframe thead th {\n",
       "        text-align: right;\n",
       "    }\n",
       "</style>\n",
       "<table border=\"1\" class=\"dataframe\">\n",
       "  <thead>\n",
       "    <tr style=\"text-align: right;\">\n",
       "      <th></th>\n",
       "      <th>dest_city_name</th>\n",
       "      <th>month</th>\n",
       "      <th>dest_airport_ratio</th>\n",
       "    </tr>\n",
       "  </thead>\n",
       "  <tbody>\n",
       "    <tr>\n",
       "      <th>1</th>\n",
       "      <td>Atlanta, GA</td>\n",
       "      <td>122945</td>\n",
       "      <td>0.119740</td>\n",
       "    </tr>\n",
       "    <tr>\n",
       "      <th>6</th>\n",
       "      <td>Chicago, IL</td>\n",
       "      <td>100333</td>\n",
       "      <td>0.097717</td>\n",
       "    </tr>\n",
       "    <tr>\n",
       "      <th>19</th>\n",
       "      <td>Los Angeles, CA</td>\n",
       "      <td>75040</td>\n",
       "      <td>0.073084</td>\n",
       "    </tr>\n",
       "    <tr>\n",
       "      <th>10</th>\n",
       "      <td>Denver, CO</td>\n",
       "      <td>64602</td>\n",
       "      <td>0.062918</td>\n",
       "    </tr>\n",
       "    <tr>\n",
       "      <th>24</th>\n",
       "      <td>New York, NY</td>\n",
       "      <td>62972</td>\n",
       "      <td>0.061330</td>\n",
       "    </tr>\n",
       "    <tr>\n",
       "      <th>3</th>\n",
       "      <td>Boston, MA</td>\n",
       "      <td>56057</td>\n",
       "      <td>0.054596</td>\n",
       "    </tr>\n",
       "    <tr>\n",
       "      <th>36</th>\n",
       "      <td>Seattle, WA</td>\n",
       "      <td>50230</td>\n",
       "      <td>0.048921</td>\n",
       "    </tr>\n",
       "    <tr>\n",
       "      <th>33</th>\n",
       "      <td>San Francisco, CA</td>\n",
       "      <td>49999</td>\n",
       "      <td>0.048696</td>\n",
       "    </tr>\n",
       "    <tr>\n",
       "      <th>9</th>\n",
       "      <td>Dallas/Fort Worth, TX</td>\n",
       "      <td>39488</td>\n",
       "      <td>0.038459</td>\n",
       "    </tr>\n",
       "    <tr>\n",
       "      <th>17</th>\n",
       "      <td>Las Vegas, NV</td>\n",
       "      <td>38494</td>\n",
       "      <td>0.037490</td>\n",
       "    </tr>\n",
       "  </tbody>\n",
       "</table>\n",
       "</div>"
      ],
      "text/plain": [
       "           dest_city_name   month  dest_airport_ratio\n",
       "1             Atlanta, GA  122945            0.119740\n",
       "6             Chicago, IL  100333            0.097717\n",
       "19        Los Angeles, CA   75040            0.073084\n",
       "10             Denver, CO   64602            0.062918\n",
       "24           New York, NY   62972            0.061330\n",
       "3              Boston, MA   56057            0.054596\n",
       "36            Seattle, WA   50230            0.048921\n",
       "33      San Francisco, CA   49999            0.048696\n",
       "9   Dallas/Fort Worth, TX   39488            0.038459\n",
       "17          Las Vegas, NV   38494            0.037490"
      ]
     },
     "execution_count": 37,
     "metadata": {},
     "output_type": "execute_result"
    }
   ],
   "source": [
    "top_airports_destination_df = flight_df_merged_2.groupby('dest_city_name').agg({'month':'count'}).reset_index()\n",
    "top_airports_destination_df['dest_airport_ratio'] = top_airports_destination_df['month'] /\\\n",
    "                                                flight_04_03_df.shape[0]\n",
    "# top_airports_destination_df\n",
    "top_airports_destination_df.rename(columns = {'month':'flight'})\n",
    "top_airports_destination_df.sort_values('dest_airport_ratio',  ascending = False).head(10)"
   ]
  },
  {
   "cell_type": "markdown",
   "metadata": {},
   "source": [
    " ### Sprawdzenie dla `top_airport_origin`"
   ]
  },
  {
   "cell_type": "code",
   "execution_count": null,
   "metadata": {},
   "outputs": [],
   "source": []
  },
  {
   "cell_type": "markdown",
   "metadata": {},
   "source": [
    "### Sprawdzenie dla `top_airport_destination`"
   ]
  },
  {
   "cell_type": "code",
   "execution_count": 22,
   "metadata": {},
   "outputs": [
    {
     "ename": "TypeError",
     "evalue": "DataFrame.sort_values() missing 1 required positional argument: 'by'",
     "output_type": "error",
     "traceback": [
      "\u001b[1;31m---------------------------------------------------------------------------\u001b[0m",
      "\u001b[1;31mTypeError\u001b[0m                                 Traceback (most recent call last)",
      "Cell \u001b[1;32mIn[22], line 1\u001b[0m\n\u001b[1;32m----> 1\u001b[0m top_airports_destination_head \u001b[38;5;241m=\u001b[39m (\u001b[43mtop_airports_destination_df\u001b[49m\n\u001b[0;32m      2\u001b[0m \u001b[43m                                 \u001b[49m\u001b[38;5;241;43m.\u001b[39;49m\u001b[43msort_values\u001b[49m\u001b[43m(\u001b[49m\u001b[43mascending\u001b[49m\u001b[38;5;241;43m=\u001b[39;49m\u001b[38;5;28;43;01mFalse\u001b[39;49;00m\u001b[43m)\u001b[49m\n\u001b[0;32m      3\u001b[0m                                  \u001b[38;5;241m.\u001b[39mhead()\n\u001b[0;32m      4\u001b[0m                                  \u001b[38;5;241m.\u001b[39mto_list()\n\u001b[0;32m      5\u001b[0m                                  )\n\u001b[0;32m      6\u001b[0m top_airports_destination_head \u001b[38;5;241m=\u001b[39m \u001b[38;5;28mtuple\u001b[39m(top_airports_destination_head)\n\u001b[0;32m      7\u001b[0m top_airports_destination_head_expected \u001b[38;5;241m=\u001b[39m (\u001b[38;5;241m122945\u001b[39m, \u001b[38;5;241m100333\u001b[39m, \u001b[38;5;241m87776\u001b[39m, \u001b[38;5;241m64602\u001b[39m, \u001b[38;5;241m57686\u001b[39m)\n",
      "File \u001b[1;32m~\\anaconda3\\lib\\site-packages\\pandas\\util\\_decorators.py:331\u001b[0m, in \u001b[0;36mdeprecate_nonkeyword_arguments.<locals>.decorate.<locals>.wrapper\u001b[1;34m(*args, **kwargs)\u001b[0m\n\u001b[0;32m    325\u001b[0m \u001b[38;5;28;01mif\u001b[39;00m \u001b[38;5;28mlen\u001b[39m(args) \u001b[38;5;241m>\u001b[39m num_allow_args:\n\u001b[0;32m    326\u001b[0m     warnings\u001b[38;5;241m.\u001b[39mwarn(\n\u001b[0;32m    327\u001b[0m         msg\u001b[38;5;241m.\u001b[39mformat(arguments\u001b[38;5;241m=\u001b[39m_format_argument_list(allow_args)),\n\u001b[0;32m    328\u001b[0m         \u001b[38;5;167;01mFutureWarning\u001b[39;00m,\n\u001b[0;32m    329\u001b[0m         stacklevel\u001b[38;5;241m=\u001b[39mfind_stack_level(),\n\u001b[0;32m    330\u001b[0m     )\n\u001b[1;32m--> 331\u001b[0m \u001b[38;5;28;01mreturn\u001b[39;00m func(\u001b[38;5;241m*\u001b[39margs, \u001b[38;5;241m*\u001b[39m\u001b[38;5;241m*\u001b[39mkwargs)\n",
      "\u001b[1;31mTypeError\u001b[0m: DataFrame.sort_values() missing 1 required positional argument: 'by'"
     ]
    }
   ],
   "source": [
    "top_airports_destination_head = (top_airports_destination_df\n",
    "                                 .sort_values(ascending=False)\n",
    "                                 .head()\n",
    "                                 .to_list()\n",
    "                                 )\n",
    "top_airports_destination_head = tuple(top_airports_destination_head)\n",
    "top_airports_destination_head_expected = (122945, 100333, 87776, 64602, 57686)\n",
    "\n",
    "assert top_airports_destination_head == top_airports_destination_head_expected, f\"Nie zgadza się top 5 wierszy, oczekiwano wyników: {top_airports_destination_head_expected} otrzymano: {top_airports_destination_head}\"\n"
   ]
  },
  {
   "cell_type": "markdown",
   "metadata": {},
   "source": [
    " # Wzbogacenie o dane pogodowe\n",
    " Używając procedury `read_sql_table`, wczytaj tabelę `airport_weather` do ramki `airport_weather_df`. Następnie wykonaj następujące polecenia:  \n",
    " 1. Pozostaw w ramce tylko następujące kolumny: `['station', 'name', 'date', 'prcp', 'snow', 'snwd', 'tmax', 'awnd']`.  \n",
    " 1. Połącz ramki `airport_list_df` wraz z `airport_weather_df` po odpowiedniej kolumnie używając takiego złączenia, aby w wyniku usunąć te wiersze (lotniska), które nie posiadają danych pogodowych. Dodatkowo, upewnij się, że zostanie tylko dodana kolumna `origin_airport_id`."
   ]
  },
  {
   "cell_type": "markdown",
   "metadata": {},
   "source": [
    " Tutaj wczytaj ramkę `airport_weather`"
   ]
  },
  {
   "cell_type": "code",
   "execution_count": null,
   "metadata": {},
   "outputs": [],
   "source": [
    "airport_list_df = pd.read_sql('airport_list',connection)\n",
    "airport_list_df.info()"
   ]
  },
  {
   "cell_type": "code",
   "execution_count": null,
   "metadata": {},
   "outputs": [],
   "source": [
    "airport_weather_df = pd.read_sql('airport_weather',connection)\n",
    "airport_weather_df.info()"
   ]
  },
  {
   "cell_type": "markdown",
   "metadata": {},
   "source": [
    " Tutaj oczyść ramkę `airport_weather_df` z nadmiarowych kolumn"
   ]
  },
  {
   "cell_type": "code",
   "execution_count": null,
   "metadata": {},
   "outputs": [],
   "source": [
    "# Pozostaw w ramce tylko następujące kolumny: ['station', 'name', 'date', 'prcp', 'snow', 'snwd', 'tmax', 'awnd']\n",
    "columns_to_stay = ['station', 'name', 'date', 'prcp', 'snow', 'snwd', 'tmax', 'awnd']\n",
    "columns_to_drop = [column for column in airport_weather_df.columns if column not in  columns_to_stay]\n",
    "airport_weather_df.drop(columns_to_drop,  axis = 1, inplace = True)\n",
    "airport_weather_df"
   ]
  },
  {
   "cell_type": "markdown",
   "metadata": {},
   "source": [
    " Tutaj połącz ramki `airport_list_df` oraz `airport_weather_df` aktualizując `airport_weather_df`"
   ]
  },
  {
   "cell_type": "code",
   "execution_count": null,
   "metadata": {},
   "outputs": [],
   "source": [
    "airport_weather_df = pd.merge(airport_weather_df, airport_list_df['name'], on = 'name', how = 'inner',  suffixes = None)\n",
    "airport_weather_df"
   ]
  },
  {
   "cell_type": "code",
   "execution_count": null,
   "metadata": {},
   "outputs": [],
   "source": [
    "airport_weather_df.info()"
   ]
  },
  {
   "cell_type": "markdown",
   "metadata": {},
   "source": [
    " ### Sprawdzenie\n",
    " Uruchom kod poniżej, aby sprawdzić, czy ta część została poprawnie wykonana"
   ]
  },
  {
   "cell_type": "code",
   "execution_count": null,
   "metadata": {},
   "outputs": [],
   "source": [
    "airport_weather_df_expected_shape = (43394, 9)\n",
    "airport_weather_df_shape = airport_weather_df.shape\n",
    "\n",
    "assert airport_weather_df_expected_shape == airport_weather_df_shape, \\\n",
    "  f'Nieodpowiedni wymiar ramki airport_weather_df, oczekiwano (wierszy, kolumn): {airport_weather_df_expected_shape}'"
   ]
  },
  {
   "cell_type": "markdown",
   "metadata": {},
   "source": [
    "# ***nie wiem dlaczego miałoby zostać 9 kolumn***"
   ]
  },
  {
   "cell_type": "markdown",
   "metadata": {},
   "source": [
    " ## Połączenie `airport_weather_df` oraz `flight_df`\n",
    " W celu złączenia ramek `airport_weather_df` oraz `flight_df` wykonaj następujące kroki:  \n",
    " 1. w ramce `aiport_weather_df` występuje kolumna `date`, zrzutuj ją na typ `DATETIME`.  \n",
    " 1. w ramce `flight_df` należy stworzyć nową kolumnę o nazwie `date`. W tym celu:  \n",
    " \t- złącz kolumny `month`, `day_of_month` oraz `year` razem, użyj następującego formatu daty: `YYYY-MM-DD`.\n",
    " \t- zrzutuj kolumnę `date` na typ `DATETIME`.  \n",
    " 1. złącz ramki używając odpowiedniego klucza, wynik złączenia zapisz do ramki `flight_df`. Użyj złącznia typu `LEFT JOIN`.\n",
    "\n",
    " > Dlaczego istotne jest zachowanie typów przy złączeniu?\n",
    "\n",
    "W trakcie pracy możesz posłużyć się następującymi artykułami z `LMS`:\n",
    " - `Python - analiza danych > Dzień 6 - Pandas > Merge`\n",
    " - `Python - analiza danych > Dzień 6 - Pandas > Praca z datetime`\n",
    " - Dokumentacje metody `to_datetime`: [klik](https://pandas.pydata.org/docs/reference/api/pandas.to_datetime.html)\n",
    " - Dostępne formaty dat: [klik](https://www.programiz.com/python-programming/datetime/strftime) - sekcja `Format Code List`"
   ]
  },
  {
   "cell_type": "markdown",
   "metadata": {},
   "source": [
    " Tutaj zrzutuj kolumnę `date` na `DATETIME` w ramce `airport_weather_df`"
   ]
  },
  {
   "cell_type": "code",
   "execution_count": 23,
   "metadata": {},
   "outputs": [
    {
     "ename": "NameError",
     "evalue": "name 'airport_weather_df' is not defined",
     "output_type": "error",
     "traceback": [
      "\u001b[1;31m---------------------------------------------------------------------------\u001b[0m",
      "\u001b[1;31mNameError\u001b[0m                                 Traceback (most recent call last)",
      "Cell \u001b[1;32mIn[23], line 1\u001b[0m\n\u001b[1;32m----> 1\u001b[0m airport_weather_df[\u001b[38;5;124m'\u001b[39m\u001b[38;5;124mdate\u001b[39m\u001b[38;5;124m'\u001b[39m] \u001b[38;5;241m=\u001b[39m pd\u001b[38;5;241m.\u001b[39mto_datetime(\u001b[43mairport_weather_df\u001b[49m[\u001b[38;5;124m'\u001b[39m\u001b[38;5;124mdate\u001b[39m\u001b[38;5;124m'\u001b[39m])\n\u001b[0;32m      2\u001b[0m airport_weather_df\u001b[38;5;241m.\u001b[39minfo()\n",
      "\u001b[1;31mNameError\u001b[0m: name 'airport_weather_df' is not defined"
     ]
    }
   ],
   "source": [
    "airport_weather_df['date'] = pd.to_datetime(airport_weather_df['date'])\n",
    "airport_weather_df.info()"
   ]
  },
  {
   "cell_type": "code",
   "execution_count": null,
   "metadata": {},
   "outputs": [],
   "source": [
    "# flight_df_merged_2['day_of_week'] = flight_df_merged_2['day_of_week'] .astype(str).str.zfill(2)\n",
    "flight_df_merged_2 = flight_df_merged_2.rename(columns = {'day_of_week':'day'})\n",
    "flight_df_merged_2"
   ]
  },
  {
   "cell_type": "markdown",
   "metadata": {},
   "source": [
    " Tutaj stwórz kolumnę `date` w ramce `flight_df`. Pamiętaj, aby była ona również typu `DATETIME`."
   ]
  },
  {
   "cell_type": "code",
   "execution_count": null,
   "metadata": {},
   "outputs": [],
   "source": [
    "flight_df_merged_2['date'] = pd.to_datetime(flight_df_merged_2[['year','month','day']])\n",
    "flight_df_merged_2"
   ]
  },
  {
   "cell_type": "markdown",
   "metadata": {},
   "source": [
    " Tutaj złącz tabeli `airport_weather_df` oraz `flight_df`"
   ]
  },
  {
   "cell_type": "code",
   "execution_count": null,
   "metadata": {},
   "outputs": [],
   "source": [
    "flight_df_merged_3 = pd.merge(flight_df_merged_2, airport_weather_df, how = 'left', on = 'date' )"
   ]
  },
  {
   "cell_type": "code",
   "execution_count": null,
   "metadata": {},
   "outputs": [],
   "source": [
    "flight_df_merged_3 = flight_04_03_df\n",
    "os.chdir('../data/processed')\n",
    "flight_04_03_df = pd.to_csv('flight_df_04_03.csv')\n"
   ]
  },
  {
   "cell_type": "code",
   "execution_count": null,
   "metadata": {},
   "outputs": [],
   "source": [
    "# testowe odczytanie zapisanego pliku\n",
    "flight_04_03_df = pd.read_csv('flight_df_04_03.csv')\n",
    "os.chdir('../../notebooks')"
   ]
  },
  {
   "cell_type": "markdown",
   "metadata": {},
   "source": [
    " ### Sprawdzenie\n",
    " Uruchom kod poniżej, aby sprawdzić, czy ta część została poprawnie wykonana"
   ]
  },
  {
   "cell_type": "code",
   "execution_count": null,
   "metadata": {},
   "outputs": [],
   "source": [
    "flight_df_expected_rows_amount = 1057391\n",
    "assert flight_df.shape[0] == flight_df_expected_rows_amount, 'Ups, zmieniła się liczba wierszy...'\n"
   ]
  },
  {
   "cell_type": "markdown",
   "metadata": {},
   "source": [
    "# Praca samodzielna\n",
    "Używając `flight_df` zbadaj hipotezę o tym, że temperatura maksymalna wpływa na **odsetek** opóźnień lotów (kolumna `tmax`).  \n",
    "\n",
    "Przy wykonywaniu tego zadania masz pełną dowolność, jednak powinno składać się conajmniej z następujących elementów:\n",
    "- sprawdzenie, czy zmienna posiada obserwacje odstające,\n",
    "- oczyszczenie danych o ile konieczne,\n",
    "- przedstawienie w formie tabeli czy wzrost danej zmiennej powoduje zmianę w odsetku opóźnień lotów,\n",
    "- wizualizację stworzonej wcześniej tabeli w formie wykresu,\n",
    "- krótkiego opisu wyników w komórce markdown."
   ]
  },
  {
   "cell_type": "markdown",
   "metadata": {},
   "source": [
    " ## Analiza dla kolumny `tmax`"
   ]
  },
  {
   "cell_type": "code",
   "execution_count": null,
   "metadata": {},
   "outputs": [],
   "source": [
    "# nie podchodze do tej analizy"
   ]
  },
  {
   "cell_type": "markdown",
   "metadata": {},
   "source": [
    "## Miejsce na Twój komentarz"
   ]
  },
  {
   "cell_type": "markdown",
   "metadata": {},
   "source": [
    "# Podsumowanie\n",
    "W tej części warsztatu dokonaliśmy kompleksowej analizy posiadanego zbioru danych. Eksploracja\n",
    "pozwoliła nam na zapoznanie się z cechami charakterystycznymi lotów - wiemy już, które \n",
    "zmienne mogą mieć wpływ na opóźnienia lotów, a które nie. Co warto podkreślić, skupiliśmy się na wielu\n",
    "aspektach tej analizy, co otwiera potencjalnie również inne możliwości dalszej pracy nad tą bazą.\n",
    "\n",
    "W tym momencie przejdziemy do kolejnego kroku, w którym, na podstawie tej analizy, przygotujemy \n",
    "system raportowy. Zanim jednak stworzymy dashboard, potrzebujemy zaktualizować naszą bazę danych."
   ]
  }
 ],
 "metadata": {
  "kernelspec": {
   "display_name": "Python 3 (ipykernel)",
   "language": "python",
   "name": "python3"
  },
  "language_info": {
   "codemirror_mode": {
    "name": "ipython",
    "version": 3
   },
   "file_extension": ".py",
   "mimetype": "text/x-python",
   "name": "python",
   "nbconvert_exporter": "python",
   "pygments_lexer": "ipython3",
   "version": "3.10.9"
  },
  "vscode": {
   "interpreter": {
    "hash": "38d75d0df746d7f75dd34c5d1915af59cb55786647bd68b8d9064425d7680b12"
   }
  }
 },
 "nbformat": 4,
 "nbformat_minor": 2
}
