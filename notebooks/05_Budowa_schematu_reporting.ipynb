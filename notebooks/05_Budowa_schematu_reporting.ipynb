{
 "cells": [
  {
   "cell_type": "markdown",
   "metadata": {},
   "source": [
    " # Opis notatnika\n",
    " Analiza przygotowana w poprzednim kroku została odebrana pozytywnie. W związku z tym, zostaliśmy poproszeni\n",
    " o przygotowanie raportu na podstawie danych z roku 2020. Ma być on później  wdrożony przez zespół IT na zewnętrzny\n",
    " serwis. Wybór padł na `Dash`.\n",
    "\n",
    " Zadanie wykonamy w dwóch krokach:  \n",
    " 1. Znając wymagania raportu, stworzymy na bazie danych odpowiednie komponenty, które zostaną następnie wykorzystane do wizualizacji.  \n",
    " 1. Stworzymy raport używając `Dash`.\n",
    "\n",
    " Ten notatnik skupia się na odpowiednim przygotowaniu bazy danych pod cele raportowe.\n",
    " \n",
    " W tej części projektu końcowego wcielasz się w rolę BI Engineera, który ma za zadanie stworzyć raport zgodny z wytycznymi biznesowymi dostarczonymi przez klienta."
   ]
  },
  {
   "cell_type": "markdown",
   "metadata": {},
   "source": [
    " # Wymagania biznesowe\n",
    " Po prezentacji wyników analizy na niezależnym spotkaniu, zostały określone następujące obszary raportowania odsetka opóźnień lotów:  \n",
    " 1. Wyświetlanie TOP 10 (w sensie najwyższego odsetka opóźnień) lotnisk na podstawie liczby odlotów, wyświetlona ma być również informacja o liczbie przylotów - widok `top_airports_by_departure`.  \n",
    " 1. Wyświetlenie TOP 10 (w sensie najwyższego odsetka opóźnień) tras lotów. Przy czym istotna dla nas jest kolejność, przykładowo trasa (Warszawa, Paryż) jest inna niż (Paryż, Warszawa). Dodatkowym wymaganiem jest, aby minimalna liczba lotów odbytych na trasie wynosiła co najmniej 10000 przelotów - widok `top_reliability_roads`.  \n",
    " 1. Porównanie roku 2019 vs. 2020, aby śledzić wpływ COVID na realizację lotów. Interesują nas podejścia:  \n",
    "     - miesiąc do miesiąca, przykładowo odsetek opoźnień styczeń 2019 vs. odsetek opoźnień styczeń 2020, odsetek opoźnień luty 2019 vs. odsetek opoźnień luty 2020 itd. - widok `year_to_year_comparision`,  \n",
    "     - dzień do dnia, przykładowo odsetek opoźnień wtorek 2019 vs. odsetek opoźnień wtorek 2020 - widok `day_to_day_comparision`.  \n",
    " 1. Dzienny, czyli jak danego dnia, globalnie wyglądał wskaźnik opóźnień lotów samolotu, tj. odsetek opóźnień 01-01-2019, odsetek opóźnień 02-01-2019 itd."
   ]
  },
  {
   "cell_type": "markdown",
   "metadata": {},
   "source": [
    " # Podejście techniczne do problemu\n",
    " Naszym celem będzie odseparowanie warstwy przygotowania danych (logika raportu) od warstwy prezentacyjnej (wizualizacja).\n",
    " Chcemy zapewnić, aby odpowiednie procesy zajmowały się tylko swoimi zadaniami. \n",
    " \n",
    " > W tym podejściu warstwa prezentacyjna (wykres/raport) nie implementuje logiki biznesowej w celu przetwarzania danych. Innymi słowy, nie chcemy aby przykładowo agregacja była wykonywana w momencie tworzenia wizualizacji.\n",
    "\n",
    " To podejście będzie spójne ze współczesnym sposobem projektowania aplikacji. Ma to też dodatkowy benefit - ze względu na wolumen danych na bazie, nie musimy ich najpierw pobierać - warstwa logiczna je odpowiednio zagreguje i przekaże zdecydowanie mniejszą liczbę wierszy, co przyśpieszy działanie całości.\n",
    "\n",
    " > Logika działania tego notebooka jest zbieżna z tą, którą robiliśmy już na przykładzie `Inicjowania bazy danych` - warto mieć go pod ręką."
   ]
  },
  {
   "cell_type": "markdown",
   "metadata": {},
   "source": [
    " # Przygotowanie bazy danych\n",
    " Na bazie danych, gdzie umieszczone są już dane, wszystko zawarte jest na schemacie `public`. Ponieważ zgodnie z wymaganiami otrzymujemy nowy obszar wykorzystania danych, stworzymy sobie schemat dedykowany - `reporting`.  \n",
    " Dalej stworzymy widoki, które odpowiedzą na zadane wcześniej pytania.\n",
    "\n",
    " > Stworzenie dedykowanego schematu ma więcej korzyści niż nam się wydaje, w ten sposób możemy łatwo wprowadzić zabezpieczenie na dane, które chcemy udostępniać.\n",
    "\n",
    " ## Stworzenie dedykowanego schematu\n",
    " W pliku `reporting.sql` napisz kwerendę, która stworzy (o ile już nie istnieje) schemat `reporting`.\n",
    " Ten temat nie był omawiany w trakcie trwania kursu, jednak łatwo można uzupełnić wiedzę czytając np. [ten](https://www.postgresqltutorial.com/postgresql-administration/postgresql-create-schema/) samouczek."
   ]
  },
  {
   "cell_type": "markdown",
   "metadata": {},
   "source": [
    " # Aktualizacja bazy danych\n",
    " W tym miejscu odpowiednio skonfiguruj połączenie do bazy danych."
   ]
  },
  {
   "cell_type": "markdown",
   "metadata": {},
   "source": [
    " Tutaj zaimportuj potrzebne biblioteki"
   ]
  },
  {
   "cell_type": "code",
   "execution_count": 1,
   "metadata": {},
   "outputs": [],
   "source": [
    "import psycopg2\n",
    "from psycopg2 import connect\n",
    "import csv\n",
    "import os"
   ]
  },
  {
   "cell_type": "markdown",
   "metadata": {},
   "source": [
    " ## Konfiguracja połączenia\n",
    " Tutaj uzupełnij konfigurację połączenia"
   ]
  },
  {
   "cell_type": "code",
   "execution_count": 2,
   "metadata": {},
   "outputs": [],
   "source": [
    "username = 'postgres'\n",
    "password = '123'\n",
    "host = 'localhost'\n",
    "database = 'airlines'\n",
    "port = None"
   ]
  },
  {
   "cell_type": "markdown",
   "metadata": {},
   "source": [
    " Tutaj zdefiniuj zmienną `con` oraz `cursor`"
   ]
  },
  {
   "cell_type": "code",
   "execution_count": 3,
   "metadata": {},
   "outputs": [],
   "source": [
    "conn = psycopg2.connect(\n",
    "    host = host,\n",
    "    database = database,\n",
    "    user = username,\n",
    "    password = password\n",
    ")\n",
    "cursor = conn.cursor()"
   ]
  },
  {
   "cell_type": "markdown",
   "metadata": {},
   "source": [
    " ## Wczytanie pliku `reporting.sql`\n",
    " Z katalogu `sql` wczytaj plik `reporting.sql`"
   ]
  },
  {
   "cell_type": "code",
   "execution_count": 4,
   "metadata": {},
   "outputs": [
    {
     "data": {
      "text/plain": [
       "\"DROP SCHEMA IF EXISTS reporting CASCADE;\\nCREATE SCHEMA reporting;\\ndrop view if exists  reporting.flight;\\ncreate view reporting.flight as \\nselect *,\\ncase\\n\\twhen dep_delay_new > 0 then 1 \\n\\telse 0\\nend as is_delayed\\nfrom\\n\\tflight;\\nDROP VIEW IF EXISTS REPORTING.TOP_RELIABILITY_ROADS;\\nCREATE VIEW REPORTING.TOP_RELIABILITY_ROADS AS\\n\\tWITH CTE AS (\\n\\t\\tSELECT F.YEAR :: VARCHAR, F.ORIGIN_AIRPORT_ID, AL_ORIG.DISPLAY_AIRPORT_NAME AS ORIG_AIRPORT_NAME, \\n\\t\\tF.DEST_AIRPORT_ID, AL_DEST.DISPLAY_AIRPORT_NAME AS DEST_AIRPORT_NAME, SUM(IS_DELAYED) AS SUM_DELAYED, COUNT(*) AS ALL_FLIGHTS\\n\\t\\tFROM REPORTING.FLIGHT F\\n\\t\\tLEFT JOIN AIRPORT_LIST AL_ORIG ON\\n\\t\\tF.ORIGIN_AIRPORT_ID = AL_ORIG.ORIGIN_AIRPORT_ID\\n\\t\\tINNER JOIN AIRPORT_LIST AL_DEST ON\\n\\t\\tF.DEST_AIRPORT_ID = AL_DEST.ORIGIN_AIRPORT_ID\\n\\t\\tGROUP BY \\n\\t\\tF.ORIGIN_AIRPORT_ID, F.YEAR, DEST_AIRPORT_NAME, DEST_AIRPORT_ID, AL_ORIG.DISPLAY_AIRPORT_NAME\\n\\t)\\n\\tSELECT *, CAST((SUM_DELAYED::FLOAT / ALL_FLIGHTS)  AS DECIMAL (5, 2)) AS RELIABILITY, DENSE_RANK () OVER (ORDER BY CAST((SUM_DELAYED::FLOAT / ALL_FLIGHTS)  AS DECIMAL (5, 2))DESC) AS nb\\n\\tFROM CTE\\n\\tWHERE ALL_FLIGHTS > 10000\\n\\tORDER BY ALL_FLIGHTS DESC , YEAR ASC;\\nDROP VIEW IF EXISTS reporting.year_to_year_comparision;\\nCREATE VIEW reporting.year_to_year_comparision AS\\n\\tWITH CTE_2 AS (\\n\\t\\tSELECT F.YEAR :: VARCHAR, f.month,  SUM(IS_DELAYED) AS SUM_DELAYED, COUNT(*) AS ALL_FLIGHTS\\n\\t\\tFROM REPORTING.FLIGHT F\\n\\t\\tLEFT JOIN AIRPORT_LIST AL_ORIG ON\\n\\t\\tF.ORIGIN_AIRPORT_ID = AL_ORIG.ORIGIN_AIRPORT_ID\\n\\t\\tINNER JOIN AIRPORT_LIST AL_DEST ON\\n\\t\\tF.DEST_AIRPORT_ID = AL_DEST.ORIGIN_AIRPORT_ID\\n\\t\\tGROUP BY \\n\\t\\tF.YEAR, F.month\\n\\t)\\n\\tSELECT year,  month,ALL_FLIGHTS, CAST((SUM_DELAYED::FLOAT / ALL_FLIGHTS)  AS DECIMAL (5, 2)) AS RELIABILITY   \\n\\tFROM CTE_2\\n\\tORDER BY YEAR ASC, month asc;\\nDROP VIEW IF EXISTS reporting.DAY_to_day_comparison;\\nCREATE VIEW reporting.day_to_day_comparision AS\\n\\tWITH CTE_3 AS (\\n\\t\\tSELECT F.YEAR :: VARCHAR, day_of_week , COUNT(*) AS ALL_FLIGHTS\\n\\t\\tFROM REPORTING.FLIGHT F\\n\\t\\tLEFT JOIN AIRPORT_LIST AL_ORIG ON\\n\\t\\tF.ORIGIN_AIRPORT_ID = AL_ORIG.ORIGIN_AIRPORT_ID\\n\\t\\tINNER JOIN AIRPORT_LIST AL_DEST ON\\n\\t\\tF.DEST_AIRPORT_ID = AL_DEST.ORIGIN_AIRPORT_ID\\n\\t\\tGROUP BY \\n\\t\\tF.YEAR, day_of_week\\n\\t)\\n\\tSELECT year,  day_of_week,ALL_FLIGHTS    \\n\\tFROM CTE_3\\n\\tORDER BY YEAR ASC, day_of_week ASC; \\nDROP VIEW IF EXISTS reporting.day_by_day_reliability;\\nCREATE VIEW reporting.day_by_day_reliability AS\\n\\tWITH CTE_4 AS (\\n\\t\\tSELECT F.YEAR :: VARCHAR, f.month, day_of_week,  SUM(IS_DELAYED) AS SUM_DELAYED, COUNT(*) AS ALL_FLIGHTS\\n\\t\\tFROM REPORTING.FLIGHT F\\n\\t\\tLEFT JOIN AIRPORT_LIST AL_ORIG ON\\n\\t\\tF.ORIGIN_AIRPORT_ID = AL_ORIG.ORIGIN_AIRPORT_ID\\n\\t\\tINNER JOIN AIRPORT_LIST AL_DEST ON\\n\\t\\tF.DEST_AIRPORT_ID = AL_DEST.ORIGIN_AIRPORT_ID\\n\\t\\tGROUP BY \\n\\t\\tF.YEAR, F.MONTH, day_of_week\\n\\t)\\n\\tSELECT to_date( YEAR || '-' || MONTH || '-' || day_of_week,   'YYYY-MM-DD') ALL_FLIGHTS, CAST((SUM_DELAYED::FLOAT / ALL_FLIGHTS) * 100 AS DECIMAL (5, 2)) AS RELIABILITY   \\n\\tFROM CTE_4\\n\\tORDER BY YEAR ASC, month asc\\n\""
      ]
     },
     "execution_count": 4,
     "metadata": {},
     "output_type": "execute_result"
    }
   ],
   "source": [
    "os.chdir('../sql')\n",
    "sql_reporting = open('reporting.sql').read()\n",
    "sql_reporting"
   ]
  },
  {
   "cell_type": "markdown",
   "metadata": {},
   "source": [
    " W tym miejscu odpowiednio rozdziel zawartość pliku `reporting.sql` na mniejsze kwerendy używając `;`"
   ]
  },
  {
   "cell_type": "code",
   "execution_count": 5,
   "metadata": {},
   "outputs": [],
   "source": [
    "sql_reporting_list = sql_reporting.split(\";\")\n",
    "# for query in sql_reporting_list:\n",
    "#     print(query)"
   ]
  },
  {
   "cell_type": "code",
   "execution_count": 6,
   "metadata": {},
   "outputs": [],
   "source": [
    "os.chdir('../notebooks')"
   ]
  },
  {
   "cell_type": "markdown",
   "metadata": {},
   "source": [
    " W tym miejscu wykonaj każdą z kwerend, aby zainicjować strukturę bazy danych"
   ]
  },
  {
   "cell_type": "code",
   "execution_count": 7,
   "metadata": {},
   "outputs": [
    {
     "name": "stdout",
     "output_type": "stream",
     "text": [
      "query completed\n",
      "query completed\n",
      "query completed\n",
      "query completed\n",
      "query completed\n",
      "query completed\n",
      "query completed\n",
      "query completed\n",
      "query completed\n",
      "query completed\n",
      "query completed\n",
      "query completed\n"
     ]
    }
   ],
   "source": [
    "for query in sql_reporting_list:\n",
    "    try:\n",
    "        cursor.execute(query)\n",
    "        print(f\"query completed\")\n",
    "    except Exception as e:\n",
    "        \n",
    "        conn.rollback()\n",
    "        print(\"query failed:\", e)"
   ]
  },
  {
   "cell_type": "markdown",
   "metadata": {},
   "source": [
    " Zatwierdzenie wszystkich operacji na bazie, czyli stworzenie widoków"
   ]
  },
  {
   "cell_type": "code",
   "execution_count": 8,
   "metadata": {},
   "outputs": [],
   "source": [
    "conn.commit()\n",
    "# cursor.close()\n",
    "# conn.close()"
   ]
  },
  {
   "cell_type": "markdown",
   "metadata": {},
   "source": [
    " ### Sprawdzenie"
   ]
  },
  {
   "cell_type": "code",
   "execution_count": 9,
   "metadata": {},
   "outputs": [],
   "source": [
    "# Ten kod chyba wygląda znajomo....\n",
    "# istnienie widoków możemy sprawdzić tak samo jak tabele\n",
    "def check_if_table_exists(table_name):\n",
    "    msg = f\"Sprawdzam czy istnieje tabela {table_name}\"\n",
    "    print(msg)\n",
    "\n",
    "    query = f\"select 1 from {table_name}\"\n",
    "    # jeżeli tabela nie istnieje, ten krok zwróci wyjątek\n",
    "    cursor.execute(query)\n",
    "    print('OK!')"
   ]
  },
  {
   "cell_type": "code",
   "execution_count": 10,
   "metadata": {},
   "outputs": [],
   "source": [
    "views_to_test = [\n",
    "    'reporting.flight',\n",
    "    'reporting.top_reliability_roads',\n",
    "    'reporting.year_to_year_comparision',\n",
    "    'reporting.day_to_day_comparision',\n",
    "    'reporting.day_by_day_reliability'\n",
    "]"
   ]
  },
  {
   "cell_type": "code",
   "execution_count": 11,
   "metadata": {},
   "outputs": [
    {
     "name": "stdout",
     "output_type": "stream",
     "text": [
      "Sprawdzam czy istnieje tabela reporting.flight\n",
      "OK!\n",
      "Sprawdzam czy istnieje tabela reporting.top_reliability_roads\n",
      "OK!\n",
      "Sprawdzam czy istnieje tabela reporting.year_to_year_comparision\n",
      "OK!\n",
      "Sprawdzam czy istnieje tabela reporting.day_to_day_comparision\n",
      "OK!\n",
      "Sprawdzam czy istnieje tabela reporting.day_by_day_reliability\n",
      "OK!\n"
     ]
    }
   ],
   "source": [
    "for view in views_to_test:\n",
    "    check_if_table_exists(view)"
   ]
  },
  {
   "cell_type": "code",
   "execution_count": 13,
   "metadata": {},
   "outputs": [
    {
     "name": "stdout",
     "output_type": "stream",
     "text": [
      "Wszystko wygląda OK :) Możesz przejść do kolejnego zadania.\n"
     ]
    }
   ],
   "source": [
    "conn.close()\n",
    "msg = \"Wszystko wygląda OK :) Możesz przejść do kolejnego zadania.\"\n",
    "print(msg)"
   ]
  },
  {
   "cell_type": "markdown",
   "metadata": {},
   "source": [
    " # Podsumownie\n",
    " W tym notatniku stworzyliśmy nowy schemat - `reporting`, którego zadaniem jest przygotowanie naszych danych\n",
    " do wizualizacji. Dalsza część pracy będzie polegała na wyświetleniu w wizualnie atrakcyjny sposób danych w interaktywnym raporcie stworzonym\n",
    " z pomocą `Dash`."
   ]
  }
 ],
 "metadata": {
  "kernelspec": {
   "display_name": "Python 3 (ipykernel)",
   "language": "python",
   "name": "python3"
  },
  "language_info": {
   "codemirror_mode": {
    "name": "ipython",
    "version": 3
   },
   "file_extension": ".py",
   "mimetype": "text/x-python",
   "name": "python",
   "nbconvert_exporter": "python",
   "pygments_lexer": "ipython3",
   "version": "3.10.9"
  },
  "vscode": {
   "interpreter": {
    "hash": "38d75d0df746d7f75dd34c5d1915af59cb55786647bd68b8d9064425d7680b12"
   }
  }
 },
 "nbformat": 4,
 "nbformat_minor": 2
}
