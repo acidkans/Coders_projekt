{
 "cells": [
  {
   "cell_type": "markdown",
   "metadata": {},
   "source": [
    " # Zakończenie\n",
    " Po wykonanym warsztacie, czas na krótkie podsumowanie wykonanej pracy.\n",
    "\n",
    " W trakcie zadania wcieliliśmy się w rolę osoby odpowiedzialnej za usprawnienie procesu przepływu danych oraz analityki. Wcześniej, ze względu na używanie zewnętrznego narzędzia firma była zmuszona, aby wszystkich tych czynności dokonywać ręcznie. Dzięki udostępnieniu zewnętrznego serwisu pojawiła się możliwość automatyzacji zadania.\n",
    "\n",
    " W trakcie prac wykonaliśmy następujące kroki, które zgrupujemy sobie według odpowiadających im zawodów w branży IT:  \n",
    " 1. `Data engineer`:  \n",
    "     - pobranie danych z zewnętrznego serwisu API,  \n",
    "     - przygotowanie oraz załadowanie danych na bazę danych,\n",
    " 1. `Data analyst`:  \n",
    "     - analiza otrzymanych danych,  \n",
    " 1. `BI Developer`:  \n",
    "     - stworzenie raportu oraz wizualiacji danych.  \n",
    "\n",
    " Mając na uwadze szerokie spektrum warsztatu, w momencie zmiany pracy jesteśmy w stanie lepiej dopasować osobiste preferencje - w zależności od tego, w której części czuliśmy się najbardziej komfortowo. Warto jednak zaznaczyć, że taki podział w projekcie występuje w większych projektach.\n",
    "\n",
    " > W fazie początkowej projektu, podobnie jak tutaj, za wszystkie elementy najczęściej jest odpowiedzialna jedna osoba.\n",
    "\n",
    " # Podziękowania\n",
    " Dziękujemy za udział w kursie `CodersLab - DataLab`. Mamy nadzieję, że nabyte tutaj umiejętności posłużą Ci do zmiany pracy lub usprawnienia swoich codziennych aktywności.\n",
    "\n",
    " # Ostatnie zadanie (opcjonalne)\n",
    " Czy wiesz, że używając komendy np. `%run \"06_Dashboard.ipynb\"` możesz uruchomić z jednego notebooka inny? Spróbuj stworzyć nowy notebook, np. `_Main.ipynb`, który uruchomi cały warsztatowy kod."
   ]
  },
  {
   "cell_type": "code",
   "execution_count": null,
   "metadata": {},
   "outputs": [],
   "source": []
  }
 ],
 "metadata": {
  "kernelspec": {
   "display_name": "Python 3 (ipykernel)",
   "language": "python",
   "name": "python3"
  },
  "language_info": {
   "codemirror_mode": {
    "name": "ipython",
    "version": 3
   },
   "file_extension": ".py",
   "mimetype": "text/x-python",
   "name": "python",
   "nbconvert_exporter": "python",
   "pygments_lexer": "ipython3",
   "version": "3.9.12"
  },
  "vscode": {
   "interpreter": {
    "hash": "136089914e87e2d4f80cd8636e7ceb6fbad42888d13047c5eed4d3dfe8a58423"
   }
  }
 },
 "nbformat": 4,
 "nbformat_minor": 2
}
